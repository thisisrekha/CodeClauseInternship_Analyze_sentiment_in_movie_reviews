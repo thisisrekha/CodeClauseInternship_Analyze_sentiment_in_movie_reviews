{
  "nbformat": 4,
  "nbformat_minor": 0,
  "metadata": {
    "colab": {
      "provenance": []
    },
    "kernelspec": {
      "name": "python3",
      "display_name": "Python 3"
    },
    "language_info": {
      "name": "python"
    }
  },
  "cells": [
    {
      "cell_type": "code",
      "execution_count": 71,
      "metadata": {
        "id": "w-93cS59P63W"
      },
      "outputs": [],
      "source": [
        "import pandas as pd\n",
        "import nltk\n",
        "from nltk.corpus import movie_reviews\n",
        "from nltk.tokenize import word_tokenize\n",
        "from nltk.corpus import stopwords\n",
        "from sklearn.feature_extraction.text import TfidfVectorizer\n",
        "from sklearn.cluster import KMeans\n",
        "import matplotlib.pyplot as plt\n",
        "import seaborn as sns"
      ]
    },
    {
      "cell_type": "code",
      "source": [
        "nltk.download('movie_reviews')"
      ],
      "metadata": {
        "colab": {
          "base_uri": "https://localhost:8080/"
        },
        "id": "yyxDESohP-ct",
        "outputId": "e320363f-fcf8-42ba-aca4-19809d4beb68"
      },
      "execution_count": 72,
      "outputs": [
        {
          "output_type": "stream",
          "name": "stderr",
          "text": [
            "[nltk_data] Downloading package movie_reviews to /root/nltk_data...\n",
            "[nltk_data]   Package movie_reviews is already up-to-date!\n"
          ]
        },
        {
          "output_type": "execute_result",
          "data": {
            "text/plain": [
              "True"
            ]
          },
          "metadata": {},
          "execution_count": 72
        }
      ]
    },
    {
      "cell_type": "code",
      "source": [
        "# A list of all the words in 'movie_reviews'\n",
        "movie_reviews.words()"
      ],
      "metadata": {
        "colab": {
          "base_uri": "https://localhost:8080/"
        },
        "id": "LMqnmN52c3v3",
        "outputId": "e0bba767-c23a-4fcb-ff85-b1cba12a87fd"
      },
      "execution_count": 73,
      "outputs": [
        {
          "output_type": "execute_result",
          "data": {
            "text/plain": [
              "['plot', ':', 'two', 'teen', 'couples', 'go', 'to', ...]"
            ]
          },
          "metadata": {},
          "execution_count": 73
        }
      ]
    },
    {
      "cell_type": "code",
      "source": [
        "# Prints total number of words in 'movie_reviews'\n",
        "len(movie_reviews.words())"
      ],
      "metadata": {
        "colab": {
          "base_uri": "https://localhost:8080/"
        },
        "id": "UHNh9MpLd9z4",
        "outputId": "b20e1226-caa6-4558-fdaf-8e4d26610868"
      },
      "execution_count": 74,
      "outputs": [
        {
          "output_type": "execute_result",
          "data": {
            "text/plain": [
              "1583820"
            ]
          },
          "metadata": {},
          "execution_count": 74
        }
      ]
    },
    {
      "cell_type": "code",
      "source": [
        "movie_reviews.categories()"
      ],
      "metadata": {
        "colab": {
          "base_uri": "https://localhost:8080/"
        },
        "id": "c85tjyA4eEjJ",
        "outputId": "4a778924-37d1-4405-cb75-76cc11a0a5f6"
      },
      "execution_count": 75,
      "outputs": [
        {
          "output_type": "execute_result",
          "data": {
            "text/plain": [
              "['neg', 'pos']"
            ]
          },
          "metadata": {},
          "execution_count": 75
        }
      ]
    },
    {
      "cell_type": "code",
      "source": [
        "# Displays frequency of words in ‘movie_reviews’\n",
        "all_words=nltk.FreqDist(movie_reviews.words())\n",
        "all_words"
      ],
      "metadata": {
        "colab": {
          "base_uri": "https://localhost:8080/"
        },
        "id": "dYKI6t0BeKVt",
        "outputId": "681572b1-06d7-40d3-aa80-c8a43bc6171a"
      },
      "execution_count": 76,
      "outputs": [
        {
          "output_type": "execute_result",
          "data": {
            "text/plain": [
              "FreqDist({',': 77717, 'the': 76529, '.': 65876, 'a': 38106, 'and': 35576, 'of': 34123, 'to': 31937, \"'\": 30585, 'is': 25195, 'in': 21822, ...})"
            ]
          },
          "metadata": {},
          "execution_count": 76
        }
      ]
    },
    {
      "cell_type": "code",
      "source": [
        "len(all_words)"
      ],
      "metadata": {
        "colab": {
          "base_uri": "https://localhost:8080/"
        },
        "id": "gtpjHtzehxo2",
        "outputId": "7d77b90a-319d-4a98-e56c-271cd2c202b1"
      },
      "execution_count": 77,
      "outputs": [
        {
          "output_type": "execute_result",
          "data": {
            "text/plain": [
              "39768"
            ]
          },
          "metadata": {},
          "execution_count": 77
        }
      ]
    },
    {
      "cell_type": "code",
      "source": [
        "# Prints frequency of the word 'happy'.\n",
        "nltk.FreqDist(movie_reviews.words())['happy']"
      ],
      "metadata": {
        "colab": {
          "base_uri": "https://localhost:8080/"
        },
        "id": "_G4EbXcIeNHU",
        "outputId": "e2ccac6d-7a99-4d54-b19a-0605662ad772"
      },
      "execution_count": 78,
      "outputs": [
        {
          "output_type": "execute_result",
          "data": {
            "text/plain": [
              "215"
            ]
          },
          "metadata": {},
          "execution_count": 78
        }
      ]
    },
    {
      "cell_type": "code",
      "source": [
        "# Prints all file ids\n",
        "movie_reviews.fileids()\n",
        "# Prints file ids of positive reviews\n",
        "movie_reviews.fileids(\"pos\")\n",
        "# Prints file ids of negative reviews.\n",
        "movie_reviews.fileids(\"neg\")"
      ],
      "metadata": {
        "colab": {
          "base_uri": "https://localhost:8080/"
        },
        "collapsed": true,
        "id": "uIHnlZXzej-6",
        "outputId": "322e2fae-ab67-47a6-fc2f-15be832a907c"
      },
      "execution_count": 79,
      "outputs": [
        {
          "output_type": "execute_result",
          "data": {
            "text/plain": [
              "['neg/cv000_29416.txt',\n",
              " 'neg/cv001_19502.txt',\n",
              " 'neg/cv002_17424.txt',\n",
              " 'neg/cv003_12683.txt',\n",
              " 'neg/cv004_12641.txt',\n",
              " 'neg/cv005_29357.txt',\n",
              " 'neg/cv006_17022.txt',\n",
              " 'neg/cv007_4992.txt',\n",
              " 'neg/cv008_29326.txt',\n",
              " 'neg/cv009_29417.txt',\n",
              " 'neg/cv010_29063.txt',\n",
              " 'neg/cv011_13044.txt',\n",
              " 'neg/cv012_29411.txt',\n",
              " 'neg/cv013_10494.txt',\n",
              " 'neg/cv014_15600.txt',\n",
              " 'neg/cv015_29356.txt',\n",
              " 'neg/cv016_4348.txt',\n",
              " 'neg/cv017_23487.txt',\n",
              " 'neg/cv018_21672.txt',\n",
              " 'neg/cv019_16117.txt',\n",
              " 'neg/cv020_9234.txt',\n",
              " 'neg/cv021_17313.txt',\n",
              " 'neg/cv022_14227.txt',\n",
              " 'neg/cv023_13847.txt',\n",
              " 'neg/cv024_7033.txt',\n",
              " 'neg/cv025_29825.txt',\n",
              " 'neg/cv026_29229.txt',\n",
              " 'neg/cv027_26270.txt',\n",
              " 'neg/cv028_26964.txt',\n",
              " 'neg/cv029_19943.txt',\n",
              " 'neg/cv030_22893.txt',\n",
              " 'neg/cv031_19540.txt',\n",
              " 'neg/cv032_23718.txt',\n",
              " 'neg/cv033_25680.txt',\n",
              " 'neg/cv034_29446.txt',\n",
              " 'neg/cv035_3343.txt',\n",
              " 'neg/cv036_18385.txt',\n",
              " 'neg/cv037_19798.txt',\n",
              " 'neg/cv038_9781.txt',\n",
              " 'neg/cv039_5963.txt',\n",
              " 'neg/cv040_8829.txt',\n",
              " 'neg/cv041_22364.txt',\n",
              " 'neg/cv042_11927.txt',\n",
              " 'neg/cv043_16808.txt',\n",
              " 'neg/cv044_18429.txt',\n",
              " 'neg/cv045_25077.txt',\n",
              " 'neg/cv046_10613.txt',\n",
              " 'neg/cv047_18725.txt',\n",
              " 'neg/cv048_18380.txt',\n",
              " 'neg/cv049_21917.txt',\n",
              " 'neg/cv050_12128.txt',\n",
              " 'neg/cv051_10751.txt',\n",
              " 'neg/cv052_29318.txt',\n",
              " 'neg/cv053_23117.txt',\n",
              " 'neg/cv054_4101.txt',\n",
              " 'neg/cv055_8926.txt',\n",
              " 'neg/cv056_14663.txt',\n",
              " 'neg/cv057_7962.txt',\n",
              " 'neg/cv058_8469.txt',\n",
              " 'neg/cv059_28723.txt',\n",
              " 'neg/cv060_11754.txt',\n",
              " 'neg/cv061_9321.txt',\n",
              " 'neg/cv062_24556.txt',\n",
              " 'neg/cv063_28852.txt',\n",
              " 'neg/cv064_25842.txt',\n",
              " 'neg/cv065_16909.txt',\n",
              " 'neg/cv066_11668.txt',\n",
              " 'neg/cv067_21192.txt',\n",
              " 'neg/cv068_14810.txt',\n",
              " 'neg/cv069_11613.txt',\n",
              " 'neg/cv070_13249.txt',\n",
              " 'neg/cv071_12969.txt',\n",
              " 'neg/cv072_5928.txt',\n",
              " 'neg/cv073_23039.txt',\n",
              " 'neg/cv074_7188.txt',\n",
              " 'neg/cv075_6250.txt',\n",
              " 'neg/cv076_26009.txt',\n",
              " 'neg/cv077_23172.txt',\n",
              " 'neg/cv078_16506.txt',\n",
              " 'neg/cv079_12766.txt',\n",
              " 'neg/cv080_14899.txt',\n",
              " 'neg/cv081_18241.txt',\n",
              " 'neg/cv082_11979.txt',\n",
              " 'neg/cv083_25491.txt',\n",
              " 'neg/cv084_15183.txt',\n",
              " 'neg/cv085_15286.txt',\n",
              " 'neg/cv086_19488.txt',\n",
              " 'neg/cv087_2145.txt',\n",
              " 'neg/cv088_25274.txt',\n",
              " 'neg/cv089_12222.txt',\n",
              " 'neg/cv090_0049.txt',\n",
              " 'neg/cv091_7899.txt',\n",
              " 'neg/cv092_27987.txt',\n",
              " 'neg/cv093_15606.txt',\n",
              " 'neg/cv094_27868.txt',\n",
              " 'neg/cv095_28730.txt',\n",
              " 'neg/cv096_12262.txt',\n",
              " 'neg/cv097_26081.txt',\n",
              " 'neg/cv098_17021.txt',\n",
              " 'neg/cv099_11189.txt',\n",
              " 'neg/cv100_12406.txt',\n",
              " 'neg/cv101_10537.txt',\n",
              " 'neg/cv102_8306.txt',\n",
              " 'neg/cv103_11943.txt',\n",
              " 'neg/cv104_19176.txt',\n",
              " 'neg/cv105_19135.txt',\n",
              " 'neg/cv106_18379.txt',\n",
              " 'neg/cv107_25639.txt',\n",
              " 'neg/cv108_17064.txt',\n",
              " 'neg/cv109_22599.txt',\n",
              " 'neg/cv110_27832.txt',\n",
              " 'neg/cv111_12253.txt',\n",
              " 'neg/cv112_12178.txt',\n",
              " 'neg/cv113_24354.txt',\n",
              " 'neg/cv114_19501.txt',\n",
              " 'neg/cv115_26443.txt',\n",
              " 'neg/cv116_28734.txt',\n",
              " 'neg/cv117_25625.txt',\n",
              " 'neg/cv118_28837.txt',\n",
              " 'neg/cv119_9909.txt',\n",
              " 'neg/cv120_3793.txt',\n",
              " 'neg/cv121_18621.txt',\n",
              " 'neg/cv122_7891.txt',\n",
              " 'neg/cv123_12165.txt',\n",
              " 'neg/cv124_3903.txt',\n",
              " 'neg/cv125_9636.txt',\n",
              " 'neg/cv126_28821.txt',\n",
              " 'neg/cv127_16451.txt',\n",
              " 'neg/cv128_29444.txt',\n",
              " 'neg/cv129_18373.txt',\n",
              " 'neg/cv130_18521.txt',\n",
              " 'neg/cv131_11568.txt',\n",
              " 'neg/cv132_5423.txt',\n",
              " 'neg/cv133_18065.txt',\n",
              " 'neg/cv134_23300.txt',\n",
              " 'neg/cv135_12506.txt',\n",
              " 'neg/cv136_12384.txt',\n",
              " 'neg/cv137_17020.txt',\n",
              " 'neg/cv138_13903.txt',\n",
              " 'neg/cv139_14236.txt',\n",
              " 'neg/cv140_7963.txt',\n",
              " 'neg/cv141_17179.txt',\n",
              " 'neg/cv142_23657.txt',\n",
              " 'neg/cv143_21158.txt',\n",
              " 'neg/cv144_5010.txt',\n",
              " 'neg/cv145_12239.txt',\n",
              " 'neg/cv146_19587.txt',\n",
              " 'neg/cv147_22625.txt',\n",
              " 'neg/cv148_18084.txt',\n",
              " 'neg/cv149_17084.txt',\n",
              " 'neg/cv150_14279.txt',\n",
              " 'neg/cv151_17231.txt',\n",
              " 'neg/cv152_9052.txt',\n",
              " 'neg/cv153_11607.txt',\n",
              " 'neg/cv154_9562.txt',\n",
              " 'neg/cv155_7845.txt',\n",
              " 'neg/cv156_11119.txt',\n",
              " 'neg/cv157_29302.txt',\n",
              " 'neg/cv158_10914.txt',\n",
              " 'neg/cv159_29374.txt',\n",
              " 'neg/cv160_10848.txt',\n",
              " 'neg/cv161_12224.txt',\n",
              " 'neg/cv162_10977.txt',\n",
              " 'neg/cv163_10110.txt',\n",
              " 'neg/cv164_23451.txt',\n",
              " 'neg/cv165_2389.txt',\n",
              " 'neg/cv166_11959.txt',\n",
              " 'neg/cv167_18094.txt',\n",
              " 'neg/cv168_7435.txt',\n",
              " 'neg/cv169_24973.txt',\n",
              " 'neg/cv170_29808.txt',\n",
              " 'neg/cv171_15164.txt',\n",
              " 'neg/cv172_12037.txt',\n",
              " 'neg/cv173_4295.txt',\n",
              " 'neg/cv174_9735.txt',\n",
              " 'neg/cv175_7375.txt',\n",
              " 'neg/cv176_14196.txt',\n",
              " 'neg/cv177_10904.txt',\n",
              " 'neg/cv178_14380.txt',\n",
              " 'neg/cv179_9533.txt',\n",
              " 'neg/cv180_17823.txt',\n",
              " 'neg/cv181_16083.txt',\n",
              " 'neg/cv182_7791.txt',\n",
              " 'neg/cv183_19826.txt',\n",
              " 'neg/cv184_26935.txt',\n",
              " 'neg/cv185_28372.txt',\n",
              " 'neg/cv186_2396.txt',\n",
              " 'neg/cv187_14112.txt',\n",
              " 'neg/cv188_20687.txt',\n",
              " 'neg/cv189_24248.txt',\n",
              " 'neg/cv190_27176.txt',\n",
              " 'neg/cv191_29539.txt',\n",
              " 'neg/cv192_16079.txt',\n",
              " 'neg/cv193_5393.txt',\n",
              " 'neg/cv194_12855.txt',\n",
              " 'neg/cv195_16146.txt',\n",
              " 'neg/cv196_28898.txt',\n",
              " 'neg/cv197_29271.txt',\n",
              " 'neg/cv198_19313.txt',\n",
              " 'neg/cv199_9721.txt',\n",
              " 'neg/cv200_29006.txt',\n",
              " 'neg/cv201_7421.txt',\n",
              " 'neg/cv202_11382.txt',\n",
              " 'neg/cv203_19052.txt',\n",
              " 'neg/cv204_8930.txt',\n",
              " 'neg/cv205_9676.txt',\n",
              " 'neg/cv206_15893.txt',\n",
              " 'neg/cv207_29141.txt',\n",
              " 'neg/cv208_9475.txt',\n",
              " 'neg/cv209_28973.txt',\n",
              " 'neg/cv210_9557.txt',\n",
              " 'neg/cv211_9955.txt',\n",
              " 'neg/cv212_10054.txt',\n",
              " 'neg/cv213_20300.txt',\n",
              " 'neg/cv214_13285.txt',\n",
              " 'neg/cv215_23246.txt',\n",
              " 'neg/cv216_20165.txt',\n",
              " 'neg/cv217_28707.txt',\n",
              " 'neg/cv218_25651.txt',\n",
              " 'neg/cv219_19874.txt',\n",
              " 'neg/cv220_28906.txt',\n",
              " 'neg/cv221_27081.txt',\n",
              " 'neg/cv222_18720.txt',\n",
              " 'neg/cv223_28923.txt',\n",
              " 'neg/cv224_18875.txt',\n",
              " 'neg/cv225_29083.txt',\n",
              " 'neg/cv226_26692.txt',\n",
              " 'neg/cv227_25406.txt',\n",
              " 'neg/cv228_5644.txt',\n",
              " 'neg/cv229_15200.txt',\n",
              " 'neg/cv230_7913.txt',\n",
              " 'neg/cv231_11028.txt',\n",
              " 'neg/cv232_16768.txt',\n",
              " 'neg/cv233_17614.txt',\n",
              " 'neg/cv234_22123.txt',\n",
              " 'neg/cv235_10704.txt',\n",
              " 'neg/cv236_12427.txt',\n",
              " 'neg/cv237_20635.txt',\n",
              " 'neg/cv238_14285.txt',\n",
              " 'neg/cv239_29828.txt',\n",
              " 'neg/cv240_15948.txt',\n",
              " 'neg/cv241_24602.txt',\n",
              " 'neg/cv242_11354.txt',\n",
              " 'neg/cv243_22164.txt',\n",
              " 'neg/cv244_22935.txt',\n",
              " 'neg/cv245_8938.txt',\n",
              " 'neg/cv246_28668.txt',\n",
              " 'neg/cv247_14668.txt',\n",
              " 'neg/cv248_15672.txt',\n",
              " 'neg/cv249_12674.txt',\n",
              " 'neg/cv250_26462.txt',\n",
              " 'neg/cv251_23901.txt',\n",
              " 'neg/cv252_24974.txt',\n",
              " 'neg/cv253_10190.txt',\n",
              " 'neg/cv254_5870.txt',\n",
              " 'neg/cv255_15267.txt',\n",
              " 'neg/cv256_16529.txt',\n",
              " 'neg/cv257_11856.txt',\n",
              " 'neg/cv258_5627.txt',\n",
              " 'neg/cv259_11827.txt',\n",
              " 'neg/cv260_15652.txt',\n",
              " 'neg/cv261_11855.txt',\n",
              " 'neg/cv262_13812.txt',\n",
              " 'neg/cv263_20693.txt',\n",
              " 'neg/cv264_14108.txt',\n",
              " 'neg/cv265_11625.txt',\n",
              " 'neg/cv266_26644.txt',\n",
              " 'neg/cv267_16618.txt',\n",
              " 'neg/cv268_20288.txt',\n",
              " 'neg/cv269_23018.txt',\n",
              " 'neg/cv270_5873.txt',\n",
              " 'neg/cv271_15364.txt',\n",
              " 'neg/cv272_20313.txt',\n",
              " 'neg/cv273_28961.txt',\n",
              " 'neg/cv274_26379.txt',\n",
              " 'neg/cv275_28725.txt',\n",
              " 'neg/cv276_17126.txt',\n",
              " 'neg/cv277_20467.txt',\n",
              " 'neg/cv278_14533.txt',\n",
              " 'neg/cv279_19452.txt',\n",
              " 'neg/cv280_8651.txt',\n",
              " 'neg/cv281_24711.txt',\n",
              " 'neg/cv282_6833.txt',\n",
              " 'neg/cv283_11963.txt',\n",
              " 'neg/cv284_20530.txt',\n",
              " 'neg/cv285_18186.txt',\n",
              " 'neg/cv286_26156.txt',\n",
              " 'neg/cv287_17410.txt',\n",
              " 'neg/cv288_20212.txt',\n",
              " 'neg/cv289_6239.txt',\n",
              " 'neg/cv290_11981.txt',\n",
              " 'neg/cv291_26844.txt',\n",
              " 'neg/cv292_7804.txt',\n",
              " 'neg/cv293_29731.txt',\n",
              " 'neg/cv294_12695.txt',\n",
              " 'neg/cv295_17060.txt',\n",
              " 'neg/cv296_13146.txt',\n",
              " 'neg/cv297_10104.txt',\n",
              " 'neg/cv298_24487.txt',\n",
              " 'neg/cv299_17950.txt',\n",
              " 'neg/cv300_23302.txt',\n",
              " 'neg/cv301_13010.txt',\n",
              " 'neg/cv302_26481.txt',\n",
              " 'neg/cv303_27366.txt',\n",
              " 'neg/cv304_28489.txt',\n",
              " 'neg/cv305_9937.txt',\n",
              " 'neg/cv306_10859.txt',\n",
              " 'neg/cv307_26382.txt',\n",
              " 'neg/cv308_5079.txt',\n",
              " 'neg/cv309_23737.txt',\n",
              " 'neg/cv310_14568.txt',\n",
              " 'neg/cv311_17708.txt',\n",
              " 'neg/cv312_29308.txt',\n",
              " 'neg/cv313_19337.txt',\n",
              " 'neg/cv314_16095.txt',\n",
              " 'neg/cv315_12638.txt',\n",
              " 'neg/cv316_5972.txt',\n",
              " 'neg/cv317_25111.txt',\n",
              " 'neg/cv318_11146.txt',\n",
              " 'neg/cv319_16459.txt',\n",
              " 'neg/cv320_9693.txt',\n",
              " 'neg/cv321_14191.txt',\n",
              " 'neg/cv322_21820.txt',\n",
              " 'neg/cv323_29633.txt',\n",
              " 'neg/cv324_7502.txt',\n",
              " 'neg/cv325_18330.txt',\n",
              " 'neg/cv326_14777.txt',\n",
              " 'neg/cv327_21743.txt',\n",
              " 'neg/cv328_10908.txt',\n",
              " 'neg/cv329_29293.txt',\n",
              " 'neg/cv330_29675.txt',\n",
              " 'neg/cv331_8656.txt',\n",
              " 'neg/cv332_17997.txt',\n",
              " 'neg/cv333_9443.txt',\n",
              " 'neg/cv334_0074.txt',\n",
              " 'neg/cv335_16299.txt',\n",
              " 'neg/cv336_10363.txt',\n",
              " 'neg/cv337_29061.txt',\n",
              " 'neg/cv338_9183.txt',\n",
              " 'neg/cv339_22452.txt',\n",
              " 'neg/cv340_14776.txt',\n",
              " 'neg/cv341_25667.txt',\n",
              " 'neg/cv342_20917.txt',\n",
              " 'neg/cv343_10906.txt',\n",
              " 'neg/cv344_5376.txt',\n",
              " 'neg/cv345_9966.txt',\n",
              " 'neg/cv346_19198.txt',\n",
              " 'neg/cv347_14722.txt',\n",
              " 'neg/cv348_19207.txt',\n",
              " 'neg/cv349_15032.txt',\n",
              " 'neg/cv350_22139.txt',\n",
              " 'neg/cv351_17029.txt',\n",
              " 'neg/cv352_5414.txt',\n",
              " 'neg/cv353_19197.txt',\n",
              " 'neg/cv354_8573.txt',\n",
              " 'neg/cv355_18174.txt',\n",
              " 'neg/cv356_26170.txt',\n",
              " 'neg/cv357_14710.txt',\n",
              " 'neg/cv358_11557.txt',\n",
              " 'neg/cv359_6751.txt',\n",
              " 'neg/cv360_8927.txt',\n",
              " 'neg/cv361_28738.txt',\n",
              " 'neg/cv362_16985.txt',\n",
              " 'neg/cv363_29273.txt',\n",
              " 'neg/cv364_14254.txt',\n",
              " 'neg/cv365_12442.txt',\n",
              " 'neg/cv366_10709.txt',\n",
              " 'neg/cv367_24065.txt',\n",
              " 'neg/cv368_11090.txt',\n",
              " 'neg/cv369_14245.txt',\n",
              " 'neg/cv370_5338.txt',\n",
              " 'neg/cv371_8197.txt',\n",
              " 'neg/cv372_6654.txt',\n",
              " 'neg/cv373_21872.txt',\n",
              " 'neg/cv374_26455.txt',\n",
              " 'neg/cv375_9932.txt',\n",
              " 'neg/cv376_20883.txt',\n",
              " 'neg/cv377_8440.txt',\n",
              " 'neg/cv378_21982.txt',\n",
              " 'neg/cv379_23167.txt',\n",
              " 'neg/cv380_8164.txt',\n",
              " 'neg/cv381_21673.txt',\n",
              " 'neg/cv382_8393.txt',\n",
              " 'neg/cv383_14662.txt',\n",
              " 'neg/cv384_18536.txt',\n",
              " 'neg/cv385_29621.txt',\n",
              " 'neg/cv386_10229.txt',\n",
              " 'neg/cv387_12391.txt',\n",
              " 'neg/cv388_12810.txt',\n",
              " 'neg/cv389_9611.txt',\n",
              " 'neg/cv390_12187.txt',\n",
              " 'neg/cv391_11615.txt',\n",
              " 'neg/cv392_12238.txt',\n",
              " 'neg/cv393_29234.txt',\n",
              " 'neg/cv394_5311.txt',\n",
              " 'neg/cv395_11761.txt',\n",
              " 'neg/cv396_19127.txt',\n",
              " 'neg/cv397_28890.txt',\n",
              " 'neg/cv398_17047.txt',\n",
              " 'neg/cv399_28593.txt',\n",
              " 'neg/cv400_20631.txt',\n",
              " 'neg/cv401_13758.txt',\n",
              " 'neg/cv402_16097.txt',\n",
              " 'neg/cv403_6721.txt',\n",
              " 'neg/cv404_21805.txt',\n",
              " 'neg/cv405_21868.txt',\n",
              " 'neg/cv406_22199.txt',\n",
              " 'neg/cv407_23928.txt',\n",
              " 'neg/cv408_5367.txt',\n",
              " 'neg/cv409_29625.txt',\n",
              " 'neg/cv410_25624.txt',\n",
              " 'neg/cv411_16799.txt',\n",
              " 'neg/cv412_25254.txt',\n",
              " 'neg/cv413_7893.txt',\n",
              " 'neg/cv414_11161.txt',\n",
              " 'neg/cv415_23674.txt',\n",
              " 'neg/cv416_12048.txt',\n",
              " 'neg/cv417_14653.txt',\n",
              " 'neg/cv418_16562.txt',\n",
              " 'neg/cv419_14799.txt',\n",
              " 'neg/cv420_28631.txt',\n",
              " 'neg/cv421_9752.txt',\n",
              " 'neg/cv422_9632.txt',\n",
              " 'neg/cv423_12089.txt',\n",
              " 'neg/cv424_9268.txt',\n",
              " 'neg/cv425_8603.txt',\n",
              " 'neg/cv426_10976.txt',\n",
              " 'neg/cv427_11693.txt',\n",
              " 'neg/cv428_12202.txt',\n",
              " 'neg/cv429_7937.txt',\n",
              " 'neg/cv430_18662.txt',\n",
              " 'neg/cv431_7538.txt',\n",
              " 'neg/cv432_15873.txt',\n",
              " 'neg/cv433_10443.txt',\n",
              " 'neg/cv434_5641.txt',\n",
              " 'neg/cv435_24355.txt',\n",
              " 'neg/cv436_20564.txt',\n",
              " 'neg/cv437_24070.txt',\n",
              " 'neg/cv438_8500.txt',\n",
              " 'neg/cv439_17633.txt',\n",
              " 'neg/cv440_16891.txt',\n",
              " 'neg/cv441_15276.txt',\n",
              " 'neg/cv442_15499.txt',\n",
              " 'neg/cv443_22367.txt',\n",
              " 'neg/cv444_9975.txt',\n",
              " 'neg/cv445_26683.txt',\n",
              " 'neg/cv446_12209.txt',\n",
              " 'neg/cv447_27334.txt',\n",
              " 'neg/cv448_16409.txt',\n",
              " 'neg/cv449_9126.txt',\n",
              " 'neg/cv450_8319.txt',\n",
              " 'neg/cv451_11502.txt',\n",
              " 'neg/cv452_5179.txt',\n",
              " 'neg/cv453_10911.txt',\n",
              " 'neg/cv454_21961.txt',\n",
              " 'neg/cv455_28866.txt',\n",
              " 'neg/cv456_20370.txt',\n",
              " 'neg/cv457_19546.txt',\n",
              " 'neg/cv458_9000.txt',\n",
              " 'neg/cv459_21834.txt',\n",
              " 'neg/cv460_11723.txt',\n",
              " 'neg/cv461_21124.txt',\n",
              " 'neg/cv462_20788.txt',\n",
              " 'neg/cv463_10846.txt',\n",
              " 'neg/cv464_17076.txt',\n",
              " 'neg/cv465_23401.txt',\n",
              " 'neg/cv466_20092.txt',\n",
              " 'neg/cv467_26610.txt',\n",
              " 'neg/cv468_16844.txt',\n",
              " 'neg/cv469_21998.txt',\n",
              " 'neg/cv470_17444.txt',\n",
              " 'neg/cv471_18405.txt',\n",
              " 'neg/cv472_29140.txt',\n",
              " 'neg/cv473_7869.txt',\n",
              " 'neg/cv474_10682.txt',\n",
              " 'neg/cv475_22978.txt',\n",
              " 'neg/cv476_18402.txt',\n",
              " 'neg/cv477_23530.txt',\n",
              " 'neg/cv478_15921.txt',\n",
              " 'neg/cv479_5450.txt',\n",
              " 'neg/cv480_21195.txt',\n",
              " 'neg/cv481_7930.txt',\n",
              " 'neg/cv482_11233.txt',\n",
              " 'neg/cv483_18103.txt',\n",
              " 'neg/cv484_26169.txt',\n",
              " 'neg/cv485_26879.txt',\n",
              " 'neg/cv486_9788.txt',\n",
              " 'neg/cv487_11058.txt',\n",
              " 'neg/cv488_21453.txt',\n",
              " 'neg/cv489_19046.txt',\n",
              " 'neg/cv490_18986.txt',\n",
              " 'neg/cv491_12992.txt',\n",
              " 'neg/cv492_19370.txt',\n",
              " 'neg/cv493_14135.txt',\n",
              " 'neg/cv494_18689.txt',\n",
              " 'neg/cv495_16121.txt',\n",
              " 'neg/cv496_11185.txt',\n",
              " 'neg/cv497_27086.txt',\n",
              " 'neg/cv498_9288.txt',\n",
              " 'neg/cv499_11407.txt',\n",
              " 'neg/cv500_10722.txt',\n",
              " 'neg/cv501_12675.txt',\n",
              " 'neg/cv502_10970.txt',\n",
              " 'neg/cv503_11196.txt',\n",
              " 'neg/cv504_29120.txt',\n",
              " 'neg/cv505_12926.txt',\n",
              " 'neg/cv506_17521.txt',\n",
              " 'neg/cv507_9509.txt',\n",
              " 'neg/cv508_17742.txt',\n",
              " 'neg/cv509_17354.txt',\n",
              " 'neg/cv510_24758.txt',\n",
              " 'neg/cv511_10360.txt',\n",
              " 'neg/cv512_17618.txt',\n",
              " 'neg/cv513_7236.txt',\n",
              " 'neg/cv514_12173.txt',\n",
              " 'neg/cv515_18484.txt',\n",
              " 'neg/cv516_12117.txt',\n",
              " 'neg/cv517_20616.txt',\n",
              " 'neg/cv518_14798.txt',\n",
              " 'neg/cv519_16239.txt',\n",
              " 'neg/cv520_13297.txt',\n",
              " 'neg/cv521_1730.txt',\n",
              " 'neg/cv522_5418.txt',\n",
              " 'neg/cv523_18285.txt',\n",
              " 'neg/cv524_24885.txt',\n",
              " 'neg/cv525_17930.txt',\n",
              " 'neg/cv526_12868.txt',\n",
              " 'neg/cv527_10338.txt',\n",
              " 'neg/cv528_11669.txt',\n",
              " 'neg/cv529_10972.txt',\n",
              " 'neg/cv530_17949.txt',\n",
              " 'neg/cv531_26838.txt',\n",
              " 'neg/cv532_6495.txt',\n",
              " 'neg/cv533_9843.txt',\n",
              " 'neg/cv534_15683.txt',\n",
              " 'neg/cv535_21183.txt',\n",
              " 'neg/cv536_27221.txt',\n",
              " 'neg/cv537_13516.txt',\n",
              " 'neg/cv538_28485.txt',\n",
              " 'neg/cv539_21865.txt',\n",
              " 'neg/cv540_3092.txt',\n",
              " 'neg/cv541_28683.txt',\n",
              " 'neg/cv542_20359.txt',\n",
              " 'neg/cv543_5107.txt',\n",
              " 'neg/cv544_5301.txt',\n",
              " 'neg/cv545_12848.txt',\n",
              " 'neg/cv546_12723.txt',\n",
              " 'neg/cv547_18043.txt',\n",
              " 'neg/cv548_18944.txt',\n",
              " 'neg/cv549_22771.txt',\n",
              " 'neg/cv550_23226.txt',\n",
              " 'neg/cv551_11214.txt',\n",
              " 'neg/cv552_0150.txt',\n",
              " 'neg/cv553_26965.txt',\n",
              " 'neg/cv554_14678.txt',\n",
              " 'neg/cv555_25047.txt',\n",
              " 'neg/cv556_16563.txt',\n",
              " 'neg/cv557_12237.txt',\n",
              " 'neg/cv558_29376.txt',\n",
              " 'neg/cv559_0057.txt',\n",
              " 'neg/cv560_18608.txt',\n",
              " 'neg/cv561_9484.txt',\n",
              " 'neg/cv562_10847.txt',\n",
              " 'neg/cv563_18610.txt',\n",
              " 'neg/cv564_12011.txt',\n",
              " 'neg/cv565_29403.txt',\n",
              " 'neg/cv566_8967.txt',\n",
              " 'neg/cv567_29420.txt',\n",
              " 'neg/cv568_17065.txt',\n",
              " 'neg/cv569_26750.txt',\n",
              " 'neg/cv570_28960.txt',\n",
              " 'neg/cv571_29292.txt',\n",
              " 'neg/cv572_20053.txt',\n",
              " 'neg/cv573_29384.txt',\n",
              " 'neg/cv574_23191.txt',\n",
              " 'neg/cv575_22598.txt',\n",
              " 'neg/cv576_15688.txt',\n",
              " 'neg/cv577_28220.txt',\n",
              " 'neg/cv578_16825.txt',\n",
              " 'neg/cv579_12542.txt',\n",
              " 'neg/cv580_15681.txt',\n",
              " 'neg/cv581_20790.txt',\n",
              " 'neg/cv582_6678.txt',\n",
              " 'neg/cv583_29465.txt',\n",
              " 'neg/cv584_29549.txt',\n",
              " 'neg/cv585_23576.txt',\n",
              " 'neg/cv586_8048.txt',\n",
              " 'neg/cv587_20532.txt',\n",
              " 'neg/cv588_14467.txt',\n",
              " 'neg/cv589_12853.txt',\n",
              " 'neg/cv590_20712.txt',\n",
              " 'neg/cv591_24887.txt',\n",
              " 'neg/cv592_23391.txt',\n",
              " 'neg/cv593_11931.txt',\n",
              " 'neg/cv594_11945.txt',\n",
              " 'neg/cv595_26420.txt',\n",
              " 'neg/cv596_4367.txt',\n",
              " 'neg/cv597_26744.txt',\n",
              " 'neg/cv598_18184.txt',\n",
              " 'neg/cv599_22197.txt',\n",
              " 'neg/cv600_25043.txt',\n",
              " 'neg/cv601_24759.txt',\n",
              " 'neg/cv602_8830.txt',\n",
              " 'neg/cv603_18885.txt',\n",
              " 'neg/cv604_23339.txt',\n",
              " 'neg/cv605_12730.txt',\n",
              " 'neg/cv606_17672.txt',\n",
              " 'neg/cv607_8235.txt',\n",
              " 'neg/cv608_24647.txt',\n",
              " 'neg/cv609_25038.txt',\n",
              " 'neg/cv610_24153.txt',\n",
              " 'neg/cv611_2253.txt',\n",
              " 'neg/cv612_5396.txt',\n",
              " 'neg/cv613_23104.txt',\n",
              " 'neg/cv614_11320.txt',\n",
              " 'neg/cv615_15734.txt',\n",
              " 'neg/cv616_29187.txt',\n",
              " 'neg/cv617_9561.txt',\n",
              " 'neg/cv618_9469.txt',\n",
              " 'neg/cv619_13677.txt',\n",
              " 'neg/cv620_2556.txt',\n",
              " 'neg/cv621_15984.txt',\n",
              " 'neg/cv622_8583.txt',\n",
              " 'neg/cv623_16988.txt',\n",
              " 'neg/cv624_11601.txt',\n",
              " 'neg/cv625_13518.txt',\n",
              " 'neg/cv626_7907.txt',\n",
              " 'neg/cv627_12603.txt',\n",
              " 'neg/cv628_20758.txt',\n",
              " 'neg/cv629_16604.txt',\n",
              " 'neg/cv630_10152.txt',\n",
              " 'neg/cv631_4782.txt',\n",
              " 'neg/cv632_9704.txt',\n",
              " 'neg/cv633_29730.txt',\n",
              " 'neg/cv634_11989.txt',\n",
              " 'neg/cv635_0984.txt',\n",
              " 'neg/cv636_16954.txt',\n",
              " 'neg/cv637_13682.txt',\n",
              " 'neg/cv638_29394.txt',\n",
              " 'neg/cv639_10797.txt',\n",
              " 'neg/cv640_5380.txt',\n",
              " 'neg/cv641_13412.txt',\n",
              " 'neg/cv642_29788.txt',\n",
              " 'neg/cv643_29282.txt',\n",
              " 'neg/cv644_18551.txt',\n",
              " 'neg/cv645_17078.txt',\n",
              " 'neg/cv646_16817.txt',\n",
              " 'neg/cv647_15275.txt',\n",
              " 'neg/cv648_17277.txt',\n",
              " 'neg/cv649_13947.txt',\n",
              " 'neg/cv650_15974.txt',\n",
              " 'neg/cv651_11120.txt',\n",
              " 'neg/cv652_15653.txt',\n",
              " 'neg/cv653_2107.txt',\n",
              " 'neg/cv654_19345.txt',\n",
              " 'neg/cv655_12055.txt',\n",
              " 'neg/cv656_25395.txt',\n",
              " 'neg/cv657_25835.txt',\n",
              " 'neg/cv658_11186.txt',\n",
              " 'neg/cv659_21483.txt',\n",
              " 'neg/cv660_23140.txt',\n",
              " 'neg/cv661_25780.txt',\n",
              " 'neg/cv662_14791.txt',\n",
              " 'neg/cv663_14484.txt',\n",
              " 'neg/cv664_4264.txt',\n",
              " 'neg/cv665_29386.txt',\n",
              " 'neg/cv666_20301.txt',\n",
              " 'neg/cv667_19672.txt',\n",
              " 'neg/cv668_18848.txt',\n",
              " 'neg/cv669_24318.txt',\n",
              " 'neg/cv670_2666.txt',\n",
              " 'neg/cv671_5164.txt',\n",
              " 'neg/cv672_27988.txt',\n",
              " 'neg/cv673_25874.txt',\n",
              " 'neg/cv674_11593.txt',\n",
              " 'neg/cv675_22871.txt',\n",
              " 'neg/cv676_22202.txt',\n",
              " 'neg/cv677_18938.txt',\n",
              " 'neg/cv678_14887.txt',\n",
              " 'neg/cv679_28221.txt',\n",
              " 'neg/cv680_10533.txt',\n",
              " 'neg/cv681_9744.txt',\n",
              " 'neg/cv682_17947.txt',\n",
              " 'neg/cv683_13047.txt',\n",
              " 'neg/cv684_12727.txt',\n",
              " 'neg/cv685_5710.txt',\n",
              " 'neg/cv686_15553.txt',\n",
              " 'neg/cv687_22207.txt',\n",
              " 'neg/cv688_7884.txt',\n",
              " 'neg/cv689_13701.txt',\n",
              " 'neg/cv690_5425.txt',\n",
              " 'neg/cv691_5090.txt',\n",
              " 'neg/cv692_17026.txt',\n",
              " 'neg/cv693_19147.txt',\n",
              " 'neg/cv694_4526.txt',\n",
              " 'neg/cv695_22268.txt',\n",
              " 'neg/cv696_29619.txt',\n",
              " 'neg/cv697_12106.txt',\n",
              " 'neg/cv698_16930.txt',\n",
              " 'neg/cv699_7773.txt',\n",
              " 'neg/cv700_23163.txt',\n",
              " 'neg/cv701_15880.txt',\n",
              " 'neg/cv702_12371.txt',\n",
              " 'neg/cv703_17948.txt',\n",
              " 'neg/cv704_17622.txt',\n",
              " 'neg/cv705_11973.txt',\n",
              " 'neg/cv706_25883.txt',\n",
              " 'neg/cv707_11421.txt',\n",
              " 'neg/cv708_28539.txt',\n",
              " 'neg/cv709_11173.txt',\n",
              " 'neg/cv710_23745.txt',\n",
              " 'neg/cv711_12687.txt',\n",
              " 'neg/cv712_24217.txt',\n",
              " 'neg/cv713_29002.txt',\n",
              " 'neg/cv714_19704.txt',\n",
              " 'neg/cv715_19246.txt',\n",
              " 'neg/cv716_11153.txt',\n",
              " 'neg/cv717_17472.txt',\n",
              " 'neg/cv718_12227.txt',\n",
              " 'neg/cv719_5581.txt',\n",
              " 'neg/cv720_5383.txt',\n",
              " 'neg/cv721_28993.txt',\n",
              " 'neg/cv722_7571.txt',\n",
              " 'neg/cv723_9002.txt',\n",
              " 'neg/cv724_15265.txt',\n",
              " 'neg/cv725_10266.txt',\n",
              " 'neg/cv726_4365.txt',\n",
              " 'neg/cv727_5006.txt',\n",
              " 'neg/cv728_17931.txt',\n",
              " 'neg/cv729_10475.txt',\n",
              " 'neg/cv730_10729.txt',\n",
              " 'neg/cv731_3968.txt',\n",
              " 'neg/cv732_13092.txt',\n",
              " 'neg/cv733_9891.txt',\n",
              " 'neg/cv734_22821.txt',\n",
              " 'neg/cv735_20218.txt',\n",
              " 'neg/cv736_24947.txt',\n",
              " 'neg/cv737_28733.txt',\n",
              " 'neg/cv738_10287.txt',\n",
              " 'neg/cv739_12179.txt',\n",
              " 'neg/cv740_13643.txt',\n",
              " 'neg/cv741_12765.txt',\n",
              " 'neg/cv742_8279.txt',\n",
              " 'neg/cv743_17023.txt',\n",
              " 'neg/cv744_10091.txt',\n",
              " 'neg/cv745_14009.txt',\n",
              " 'neg/cv746_10471.txt',\n",
              " 'neg/cv747_18189.txt',\n",
              " 'neg/cv748_14044.txt',\n",
              " 'neg/cv749_18960.txt',\n",
              " 'neg/cv750_10606.txt',\n",
              " 'neg/cv751_17208.txt',\n",
              " 'neg/cv752_25330.txt',\n",
              " 'neg/cv753_11812.txt',\n",
              " 'neg/cv754_7709.txt',\n",
              " 'neg/cv755_24881.txt',\n",
              " 'neg/cv756_23676.txt',\n",
              " 'neg/cv757_10668.txt',\n",
              " 'neg/cv758_9740.txt',\n",
              " 'neg/cv759_15091.txt',\n",
              " 'neg/cv760_8977.txt',\n",
              " 'neg/cv761_13769.txt',\n",
              " 'neg/cv762_15604.txt',\n",
              " 'neg/cv763_16486.txt',\n",
              " 'neg/cv764_12701.txt',\n",
              " 'neg/cv765_20429.txt',\n",
              " 'neg/cv766_7983.txt',\n",
              " 'neg/cv767_15673.txt',\n",
              " 'neg/cv768_12709.txt',\n",
              " 'neg/cv769_8565.txt',\n",
              " 'neg/cv770_11061.txt',\n",
              " 'neg/cv771_28466.txt',\n",
              " 'neg/cv772_12971.txt',\n",
              " 'neg/cv773_20264.txt',\n",
              " 'neg/cv774_15488.txt',\n",
              " 'neg/cv775_17966.txt',\n",
              " 'neg/cv776_21934.txt',\n",
              " 'neg/cv777_10247.txt',\n",
              " 'neg/cv778_18629.txt',\n",
              " 'neg/cv779_18989.txt',\n",
              " 'neg/cv780_8467.txt',\n",
              " 'neg/cv781_5358.txt',\n",
              " 'neg/cv782_21078.txt',\n",
              " 'neg/cv783_14724.txt',\n",
              " 'neg/cv784_16077.txt',\n",
              " 'neg/cv785_23748.txt',\n",
              " 'neg/cv786_23608.txt',\n",
              " 'neg/cv787_15277.txt',\n",
              " 'neg/cv788_26409.txt',\n",
              " 'neg/cv789_12991.txt',\n",
              " 'neg/cv790_16202.txt',\n",
              " 'neg/cv791_17995.txt',\n",
              " 'neg/cv792_3257.txt',\n",
              " 'neg/cv793_15235.txt',\n",
              " 'neg/cv794_17353.txt',\n",
              " 'neg/cv795_10291.txt',\n",
              " 'neg/cv796_17243.txt',\n",
              " 'neg/cv797_7245.txt',\n",
              " 'neg/cv798_24779.txt',\n",
              " 'neg/cv799_19812.txt',\n",
              " 'neg/cv800_13494.txt',\n",
              " 'neg/cv801_26335.txt',\n",
              " 'neg/cv802_28381.txt',\n",
              " 'neg/cv803_8584.txt',\n",
              " 'neg/cv804_11763.txt',\n",
              " 'neg/cv805_21128.txt',\n",
              " 'neg/cv806_9405.txt',\n",
              " 'neg/cv807_23024.txt',\n",
              " 'neg/cv808_13773.txt',\n",
              " 'neg/cv809_5012.txt',\n",
              " 'neg/cv810_13660.txt',\n",
              " 'neg/cv811_22646.txt',\n",
              " 'neg/cv812_19051.txt',\n",
              " 'neg/cv813_6649.txt',\n",
              " 'neg/cv814_20316.txt',\n",
              " 'neg/cv815_23466.txt',\n",
              " 'neg/cv816_15257.txt',\n",
              " 'neg/cv817_3675.txt',\n",
              " 'neg/cv818_10698.txt',\n",
              " 'neg/cv819_9567.txt',\n",
              " 'neg/cv820_24157.txt',\n",
              " 'neg/cv821_29283.txt',\n",
              " 'neg/cv822_21545.txt',\n",
              " 'neg/cv823_17055.txt',\n",
              " 'neg/cv824_9335.txt',\n",
              " 'neg/cv825_5168.txt',\n",
              " 'neg/cv826_12761.txt',\n",
              " 'neg/cv827_19479.txt',\n",
              " 'neg/cv828_21392.txt',\n",
              " 'neg/cv829_21725.txt',\n",
              " 'neg/cv830_5778.txt',\n",
              " 'neg/cv831_16325.txt',\n",
              " 'neg/cv832_24713.txt',\n",
              " 'neg/cv833_11961.txt',\n",
              " 'neg/cv834_23192.txt',\n",
              " 'neg/cv835_20531.txt',\n",
              " 'neg/cv836_14311.txt',\n",
              " 'neg/cv837_27232.txt',\n",
              " 'neg/cv838_25886.txt',\n",
              " 'neg/cv839_22807.txt',\n",
              " 'neg/cv840_18033.txt',\n",
              " 'neg/cv841_3367.txt',\n",
              " 'neg/cv842_5702.txt',\n",
              " 'neg/cv843_17054.txt',\n",
              " 'neg/cv844_13890.txt',\n",
              " 'neg/cv845_15886.txt',\n",
              " 'neg/cv846_29359.txt',\n",
              " 'neg/cv847_20855.txt',\n",
              " 'neg/cv848_10061.txt',\n",
              " 'neg/cv849_17215.txt',\n",
              " 'neg/cv850_18185.txt',\n",
              " 'neg/cv851_21895.txt',\n",
              " 'neg/cv852_27512.txt',\n",
              " 'neg/cv853_29119.txt',\n",
              " 'neg/cv854_18955.txt',\n",
              " 'neg/cv855_22134.txt',\n",
              " 'neg/cv856_28882.txt',\n",
              " 'neg/cv857_17527.txt',\n",
              " 'neg/cv858_20266.txt',\n",
              " 'neg/cv859_15689.txt',\n",
              " 'neg/cv860_15520.txt',\n",
              " 'neg/cv861_12809.txt',\n",
              " 'neg/cv862_15924.txt',\n",
              " 'neg/cv863_7912.txt',\n",
              " 'neg/cv864_3087.txt',\n",
              " 'neg/cv865_28796.txt',\n",
              " 'neg/cv866_29447.txt',\n",
              " 'neg/cv867_18362.txt',\n",
              " 'neg/cv868_12799.txt',\n",
              " 'neg/cv869_24782.txt',\n",
              " 'neg/cv870_18090.txt',\n",
              " 'neg/cv871_25971.txt',\n",
              " 'neg/cv872_13710.txt',\n",
              " 'neg/cv873_19937.txt',\n",
              " 'neg/cv874_12182.txt',\n",
              " 'neg/cv875_5622.txt',\n",
              " 'neg/cv876_9633.txt',\n",
              " 'neg/cv877_29132.txt',\n",
              " 'neg/cv878_17204.txt',\n",
              " 'neg/cv879_16585.txt',\n",
              " 'neg/cv880_29629.txt',\n",
              " 'neg/cv881_14767.txt',\n",
              " 'neg/cv882_10042.txt',\n",
              " 'neg/cv883_27621.txt',\n",
              " 'neg/cv884_15230.txt',\n",
              " 'neg/cv885_13390.txt',\n",
              " 'neg/cv886_19210.txt',\n",
              " 'neg/cv887_5306.txt',\n",
              " 'neg/cv888_25678.txt',\n",
              " 'neg/cv889_22670.txt',\n",
              " 'neg/cv890_3515.txt',\n",
              " 'neg/cv891_6035.txt',\n",
              " 'neg/cv892_18788.txt',\n",
              " 'neg/cv893_26731.txt',\n",
              " 'neg/cv894_22140.txt',\n",
              " 'neg/cv895_22200.txt',\n",
              " 'neg/cv896_17819.txt',\n",
              " 'neg/cv897_11703.txt',\n",
              " 'neg/cv898_1576.txt',\n",
              " 'neg/cv899_17812.txt',\n",
              " 'neg/cv900_10800.txt',\n",
              " 'neg/cv901_11934.txt',\n",
              " 'neg/cv902_13217.txt',\n",
              " 'neg/cv903_18981.txt',\n",
              " 'neg/cv904_25663.txt',\n",
              " 'neg/cv905_28965.txt',\n",
              " 'neg/cv906_12332.txt',\n",
              " 'neg/cv907_3193.txt',\n",
              " 'neg/cv908_17779.txt',\n",
              " 'neg/cv909_9973.txt',\n",
              " 'neg/cv910_21930.txt',\n",
              " 'neg/cv911_21695.txt',\n",
              " 'neg/cv912_5562.txt',\n",
              " 'neg/cv913_29127.txt',\n",
              " 'neg/cv914_2856.txt',\n",
              " 'neg/cv915_9342.txt',\n",
              " 'neg/cv916_17034.txt',\n",
              " 'neg/cv917_29484.txt',\n",
              " 'neg/cv918_27080.txt',\n",
              " 'neg/cv919_18155.txt',\n",
              " 'neg/cv920_29423.txt',\n",
              " 'neg/cv921_13988.txt',\n",
              " 'neg/cv922_10185.txt',\n",
              " 'neg/cv923_11951.txt',\n",
              " 'neg/cv924_29397.txt',\n",
              " 'neg/cv925_9459.txt',\n",
              " 'neg/cv926_18471.txt',\n",
              " 'neg/cv927_11471.txt',\n",
              " 'neg/cv928_9478.txt',\n",
              " 'neg/cv929_1841.txt',\n",
              " 'neg/cv930_14949.txt',\n",
              " 'neg/cv931_18783.txt',\n",
              " 'neg/cv932_14854.txt',\n",
              " 'neg/cv933_24953.txt',\n",
              " 'neg/cv934_20426.txt',\n",
              " 'neg/cv935_24977.txt',\n",
              " 'neg/cv936_17473.txt',\n",
              " 'neg/cv937_9816.txt',\n",
              " 'neg/cv938_10706.txt',\n",
              " 'neg/cv939_11247.txt',\n",
              " 'neg/cv940_18935.txt',\n",
              " 'neg/cv941_10718.txt',\n",
              " 'neg/cv942_18509.txt',\n",
              " 'neg/cv943_23547.txt',\n",
              " 'neg/cv944_15042.txt',\n",
              " 'neg/cv945_13012.txt',\n",
              " 'neg/cv946_20084.txt',\n",
              " 'neg/cv947_11316.txt',\n",
              " 'neg/cv948_25870.txt',\n",
              " 'neg/cv949_21565.txt',\n",
              " 'neg/cv950_13478.txt',\n",
              " 'neg/cv951_11816.txt',\n",
              " 'neg/cv952_26375.txt',\n",
              " 'neg/cv953_7078.txt',\n",
              " 'neg/cv954_19932.txt',\n",
              " 'neg/cv955_26154.txt',\n",
              " 'neg/cv956_12547.txt',\n",
              " 'neg/cv957_9059.txt',\n",
              " 'neg/cv958_13020.txt',\n",
              " 'neg/cv959_16218.txt',\n",
              " 'neg/cv960_28877.txt',\n",
              " 'neg/cv961_5578.txt',\n",
              " 'neg/cv962_9813.txt',\n",
              " 'neg/cv963_7208.txt',\n",
              " 'neg/cv964_5794.txt',\n",
              " 'neg/cv965_26688.txt',\n",
              " 'neg/cv966_28671.txt',\n",
              " 'neg/cv967_5626.txt',\n",
              " 'neg/cv968_25413.txt',\n",
              " 'neg/cv969_14760.txt',\n",
              " 'neg/cv970_19532.txt',\n",
              " 'neg/cv971_11790.txt',\n",
              " 'neg/cv972_26837.txt',\n",
              " 'neg/cv973_10171.txt',\n",
              " 'neg/cv974_24303.txt',\n",
              " 'neg/cv975_11920.txt',\n",
              " 'neg/cv976_10724.txt',\n",
              " 'neg/cv977_4776.txt',\n",
              " 'neg/cv978_22192.txt',\n",
              " 'neg/cv979_2029.txt',\n",
              " 'neg/cv980_11851.txt',\n",
              " 'neg/cv981_16679.txt',\n",
              " 'neg/cv982_22209.txt',\n",
              " 'neg/cv983_24219.txt',\n",
              " 'neg/cv984_14006.txt',\n",
              " 'neg/cv985_5964.txt',\n",
              " 'neg/cv986_15092.txt',\n",
              " 'neg/cv987_7394.txt',\n",
              " 'neg/cv988_20168.txt',\n",
              " 'neg/cv989_17297.txt',\n",
              " 'neg/cv990_12443.txt',\n",
              " 'neg/cv991_19973.txt',\n",
              " 'neg/cv992_12806.txt',\n",
              " 'neg/cv993_29565.txt',\n",
              " 'neg/cv994_13229.txt',\n",
              " 'neg/cv995_23113.txt',\n",
              " 'neg/cv996_12447.txt',\n",
              " 'neg/cv997_5152.txt',\n",
              " 'neg/cv998_15691.txt',\n",
              " 'neg/cv999_14636.txt']"
            ]
          },
          "metadata": {},
          "execution_count": 79
        }
      ]
    },
    {
      "cell_type": "code",
      "source": [
        "# Prints all words in movie_review with file id ‘neg/cv001_19502.txt’\n",
        "movie_reviews.words(\"neg/cv001_19502.txt\")"
      ],
      "metadata": {
        "colab": {
          "base_uri": "https://localhost:8080/"
        },
        "id": "bK49Dhdnev1o",
        "outputId": "c2da1996-f77b-4fe0-cb64-ac63c07d6f3a"
      },
      "execution_count": 80,
      "outputs": [
        {
          "output_type": "execute_result",
          "data": {
            "text/plain": [
              "['the', 'happy', 'bastard', \"'\", 's', 'quick', 'movie', ...]"
            ]
          },
          "metadata": {},
          "execution_count": 80
        }
      ]
    },
    {
      "cell_type": "code",
      "source": [
        "# Load movie reviews into a DataFrame\n",
        "documents = [(list(movie_reviews.words(fileid)), category)\n",
        "             for category in movie_reviews.categories()\n",
        "             for fileid in movie_reviews.fileids(category)]\n",
        "\n",
        "# Convert the list of documents into a DataFrame\n",
        "df = pd.DataFrame(documents, columns=['words', 'category'])"
      ],
      "metadata": {
        "id": "1sPm3xdUfI95"
      },
      "execution_count": 81,
      "outputs": []
    },
    {
      "cell_type": "code",
      "source": [
        "# Display the first few rows of the DataFrame\n",
        "print(df.head())"
      ],
      "metadata": {
        "colab": {
          "base_uri": "https://localhost:8080/"
        },
        "id": "4RE7y8rqfiX1",
        "outputId": "8092d7e8-13e0-4e63-b8f0-56fc2da64998"
      },
      "execution_count": 82,
      "outputs": [
        {
          "output_type": "stream",
          "name": "stdout",
          "text": [
            "                                               words category\n",
            "0  [plot, :, two, teen, couples, go, to, a, churc...      neg\n",
            "1  [the, happy, bastard, ', s, quick, movie, revi...      neg\n",
            "2  [it, is, movies, like, these, that, make, a, j...      neg\n",
            "3  [\", quest, for, camelot, \", is, warner, bros, ...      neg\n",
            "4  [synopsis, :, a, mentally, unstable, man, unde...      neg\n"
          ]
        }
      ]
    },
    {
      "cell_type": "code",
      "source": [
        "# Display the first few rows of the DataFrame\n",
        "print(df.tail())"
      ],
      "metadata": {
        "colab": {
          "base_uri": "https://localhost:8080/"
        },
        "id": "bOGQshKofoBO",
        "outputId": "1fb57179-7a1a-4937-bb70-1bbd2b48d008"
      },
      "execution_count": 83,
      "outputs": [
        {
          "output_type": "stream",
          "name": "stdout",
          "text": [
            "                                                  words category\n",
            "1995  [wow, !, what, a, movie, ., it, ', s, everythi...      pos\n",
            "1996  [richard, gere, can, be, a, commanding, actor,...      pos\n",
            "1997  [glory, --, starring, matthew, broderick, ,, d...      pos\n",
            "1998  [steven, spielberg, ', s, second, epic, film, ...      pos\n",
            "1999  [truman, (, \", true, -, man, \", ), burbank, is...      pos\n"
          ]
        }
      ]
    },
    {
      "cell_type": "code",
      "source": [
        "# Display the structure of the DataFrame\n",
        "df.info()"
      ],
      "metadata": {
        "colab": {
          "base_uri": "https://localhost:8080/"
        },
        "id": "SLQBsC2gfwjP",
        "outputId": "33fbb89b-bbd7-4ae0-9484-ccd947ff5cc3"
      },
      "execution_count": 84,
      "outputs": [
        {
          "output_type": "stream",
          "name": "stdout",
          "text": [
            "<class 'pandas.core.frame.DataFrame'>\n",
            "RangeIndex: 2000 entries, 0 to 1999\n",
            "Data columns (total 2 columns):\n",
            " #   Column    Non-Null Count  Dtype \n",
            "---  ------    --------------  ----- \n",
            " 0   words     2000 non-null   object\n",
            " 1   category  2000 non-null   object\n",
            "dtypes: object(2)\n",
            "memory usage: 31.4+ KB\n"
          ]
        }
      ]
    },
    {
      "cell_type": "code",
      "source": [
        "# Display a random sample of the DataFrame\n",
        "print(df.sample(5))"
      ],
      "metadata": {
        "colab": {
          "base_uri": "https://localhost:8080/"
        },
        "id": "lRPd1jOrgS3V",
        "outputId": "fa3afd1b-b675-463c-8745-526eaa23b53e"
      },
      "execution_count": 85,
      "outputs": [
        {
          "output_type": "stream",
          "name": "stdout",
          "text": [
            "                                                  words category\n",
            "1273  [felix, (, sami, bouajila, ,, \", the, siege, \"...      pos\n",
            "1717  [since, most, movies, about, slavery, shield, ...      pos\n",
            "1581  [eyes, wide, shut, isn, ', t, the, masterpiece...      pos\n",
            "1571  [hedwig, and, the, angry, inch, (, 2001, ), jo...      pos\n",
            "1865  [every, once, in, a, while, ,, a, film, sneaks...      pos\n"
          ]
        }
      ]
    },
    {
      "cell_type": "code",
      "source": [
        "# Join the tokenized words into a single string for better readability\n",
        "df['review_text'] = df['words'].apply(lambda x: ' '.join(x))\n",
        "\n",
        "# Display the first few rows with the joined text\n",
        "print(df[['review_text', 'category']].head())\n"
      ],
      "metadata": {
        "colab": {
          "base_uri": "https://localhost:8080/"
        },
        "id": "UXOM9qrhgY7U",
        "outputId": "9538a681-4826-4704-defc-5c5f40ec53c6"
      },
      "execution_count": 86,
      "outputs": [
        {
          "output_type": "stream",
          "name": "stdout",
          "text": [
            "                                         review_text category\n",
            "0  plot : two teen couples go to a church party ,...      neg\n",
            "1  the happy bastard ' s quick movie review damn ...      neg\n",
            "2  it is movies like these that make a jaded movi...      neg\n",
            "3  \" quest for camelot \" is warner bros . ' first...      neg\n",
            "4  synopsis : a mentally unstable man undergoing ...      neg\n"
          ]
        }
      ]
    },
    {
      "cell_type": "code",
      "source": [
        "# Display a random sample of the DataFrame\n",
        "print(df.sample(5))"
      ],
      "metadata": {
        "colab": {
          "base_uri": "https://localhost:8080/"
        },
        "id": "5WEDP0vrglJf",
        "outputId": "6491e1e8-37e2-498b-b973-222cf500a32e"
      },
      "execution_count": 87,
      "outputs": [
        {
          "output_type": "stream",
          "name": "stdout",
          "text": [
            "                                                  words category  \\\n",
            "1015  [plot, :, a, young, man, who, loves, heavy, me...      pos   \n",
            "1499  [towards, the, middle, of, \", the, sweet, here...      pos   \n",
            "1622  [did, you, ever, wonder, if, dennis, rodman, w...      pos   \n",
            "872   [fact, that, charles, bronson, represents, one...      neg   \n",
            "1411  [countries, and, legal, systems, that, take, t...      pos   \n",
            "\n",
            "                                            review_text  \n",
            "1015  plot : a young man who loves heavy metal music...  \n",
            "1499  towards the middle of \" the sweet hereafter , ...  \n",
            "1622  did you ever wonder if dennis rodman was actua...  \n",
            "872   fact that charles bronson represents one of th...  \n",
            "1411  countries and legal systems that take the rule...  \n"
          ]
        }
      ]
    },
    {
      "cell_type": "code",
      "source": [
        "df.info()"
      ],
      "metadata": {
        "colab": {
          "base_uri": "https://localhost:8080/"
        },
        "id": "wEHTHwLJgtbt",
        "outputId": "eb8eefce-cfd1-4e55-c190-6119419e6869"
      },
      "execution_count": 88,
      "outputs": [
        {
          "output_type": "stream",
          "name": "stdout",
          "text": [
            "<class 'pandas.core.frame.DataFrame'>\n",
            "RangeIndex: 2000 entries, 0 to 1999\n",
            "Data columns (total 3 columns):\n",
            " #   Column       Non-Null Count  Dtype \n",
            "---  ------       --------------  ----- \n",
            " 0   words        2000 non-null   object\n",
            " 1   category     2000 non-null   object\n",
            " 2   review_text  2000 non-null   object\n",
            "dtypes: object(3)\n",
            "memory usage: 47.0+ KB\n"
          ]
        }
      ]
    },
    {
      "cell_type": "code",
      "source": [
        "# Drop the 'review_text' column\n",
        "df.drop(columns=['review_text'], inplace=True)"
      ],
      "metadata": {
        "id": "ktofgrQ9iSAo"
      },
      "execution_count": 89,
      "outputs": []
    },
    {
      "cell_type": "code",
      "source": [
        "df.info()"
      ],
      "metadata": {
        "colab": {
          "base_uri": "https://localhost:8080/"
        },
        "id": "s88krSKAhAIL",
        "outputId": "752c29e3-c947-40d7-ec31-174d7bc2b3d8"
      },
      "execution_count": 90,
      "outputs": [
        {
          "output_type": "stream",
          "name": "stdout",
          "text": [
            "<class 'pandas.core.frame.DataFrame'>\n",
            "RangeIndex: 2000 entries, 0 to 1999\n",
            "Data columns (total 2 columns):\n",
            " #   Column    Non-Null Count  Dtype \n",
            "---  ------    --------------  ----- \n",
            " 0   words     2000 non-null   object\n",
            " 1   category  2000 non-null   object\n",
            "dtypes: object(2)\n",
            "memory usage: 31.4+ KB\n"
          ]
        }
      ]
    },
    {
      "cell_type": "code",
      "source": [
        "# Ensure stopwords are downloaded\n",
        "nltk.download('stopwords')\n",
        "# Retrieve a set of English stopwords from NLTK\n",
        "stop_words = set(stopwords.words('english'))"
      ],
      "metadata": {
        "id": "Wo88ZUSZmKNc"
      },
      "execution_count": 91,
      "outputs": []
    },
    {
      "cell_type": "code",
      "source": [
        "# Initialize a Porter Stemmer object from NLTK\n",
        "ps = nltk.PorterStemmer()"
      ],
      "metadata": {
        "id": "lBiQqPE1rSJI"
      },
      "execution_count": 93,
      "outputs": []
    },
    {
      "cell_type": "code",
      "source": [
        "# Define a function to preprocess text\n",
        "def preprocess_text(words):\n",
        "  return [ps.stem(word.lower()) for word in words if word.isalpha() and word.lower() not in stop_words]\n"
      ],
      "metadata": {
        "id": "Zb7nZgd5rl-c"
      },
      "execution_count": 95,
      "outputs": []
    },
    {
      "cell_type": "markdown",
      "source": [
        "Stemming each word (reducing to its base or root form) and converting to lowercase and it also ensures that each word is alphabetic and not in the set of stopwords using preprocess text function"
      ],
      "metadata": {
        "id": "u6YegmNlrluA"
      }
    },
    {
      "cell_type": "code",
      "source": [
        "# Apply the preprocess_text function to each row in the 'words' column of the DataFrame\n",
        "df['processed_words'] = df['words'].apply(preprocess_text)\n",
        "\n",
        "# Convert the list of processed words into a single string for each row\n",
        "df['processed_text'] = df['processed_words'].apply(lambda x: ' '.join(x))"
      ],
      "metadata": {
        "id": "vmS3X3Xfwgk4"
      },
      "execution_count": 96,
      "outputs": []
    },
    {
      "cell_type": "code",
      "source": [
        "df.info()"
      ],
      "metadata": {
        "colab": {
          "base_uri": "https://localhost:8080/"
        },
        "id": "wpkZfqqzxTmY",
        "outputId": "c722c152-4b88-424e-ee9c-6587a62b5103"
      },
      "execution_count": 97,
      "outputs": [
        {
          "output_type": "stream",
          "name": "stdout",
          "text": [
            "<class 'pandas.core.frame.DataFrame'>\n",
            "RangeIndex: 2000 entries, 0 to 1999\n",
            "Data columns (total 4 columns):\n",
            " #   Column           Non-Null Count  Dtype \n",
            "---  ------           --------------  ----- \n",
            " 0   words            2000 non-null   object\n",
            " 1   category         2000 non-null   object\n",
            " 2   processed_words  2000 non-null   object\n",
            " 3   processed_text   2000 non-null   object\n",
            "dtypes: object(4)\n",
            "memory usage: 62.6+ KB\n"
          ]
        }
      ]
    },
    {
      "cell_type": "code",
      "source": [
        "df.head()"
      ],
      "metadata": {
        "colab": {
          "base_uri": "https://localhost:8080/",
          "height": 206
        },
        "id": "RhNivHCOxWfi",
        "outputId": "98835e68-b848-4900-9ed1-50060aff4c1e"
      },
      "execution_count": 98,
      "outputs": [
        {
          "output_type": "execute_result",
          "data": {
            "text/plain": [
              "                                               words category  \\\n",
              "0  [plot, :, two, teen, couples, go, to, a, churc...      neg   \n",
              "1  [the, happy, bastard, ', s, quick, movie, revi...      neg   \n",
              "2  [it, is, movies, like, these, that, make, a, j...      neg   \n",
              "3  [\", quest, for, camelot, \", is, warner, bros, ...      neg   \n",
              "4  [synopsis, :, a, mentally, unstable, man, unde...      neg   \n",
              "\n",
              "                                     processed_words  \\\n",
              "0  [plot, two, teen, coupl, go, church, parti, dr...   \n",
              "1  [happi, bastard, quick, movi, review, damn, bu...   \n",
              "2  [movi, like, make, jade, movi, viewer, thank, ...   \n",
              "3  [quest, camelot, warner, bro, first, featur, l...   \n",
              "4  [synopsi, mental, unstabl, man, undergo, psych...   \n",
              "\n",
              "                                      processed_text  \n",
              "0  plot two teen coupl go church parti drink driv...  \n",
              "1  happi bastard quick movi review damn bug got h...  \n",
              "2  movi like make jade movi viewer thank invent t...  \n",
              "3  quest camelot warner bro first featur length f...  \n",
              "4  synopsi mental unstabl man undergo psychothera...  "
            ],
            "text/html": [
              "\n",
              "  <div id=\"df-f7d7b12f-4b3a-4bff-84c0-4597ee05e0c4\" class=\"colab-df-container\">\n",
              "    <div>\n",
              "<style scoped>\n",
              "    .dataframe tbody tr th:only-of-type {\n",
              "        vertical-align: middle;\n",
              "    }\n",
              "\n",
              "    .dataframe tbody tr th {\n",
              "        vertical-align: top;\n",
              "    }\n",
              "\n",
              "    .dataframe thead th {\n",
              "        text-align: right;\n",
              "    }\n",
              "</style>\n",
              "<table border=\"1\" class=\"dataframe\">\n",
              "  <thead>\n",
              "    <tr style=\"text-align: right;\">\n",
              "      <th></th>\n",
              "      <th>words</th>\n",
              "      <th>category</th>\n",
              "      <th>processed_words</th>\n",
              "      <th>processed_text</th>\n",
              "    </tr>\n",
              "  </thead>\n",
              "  <tbody>\n",
              "    <tr>\n",
              "      <th>0</th>\n",
              "      <td>[plot, :, two, teen, couples, go, to, a, churc...</td>\n",
              "      <td>neg</td>\n",
              "      <td>[plot, two, teen, coupl, go, church, parti, dr...</td>\n",
              "      <td>plot two teen coupl go church parti drink driv...</td>\n",
              "    </tr>\n",
              "    <tr>\n",
              "      <th>1</th>\n",
              "      <td>[the, happy, bastard, ', s, quick, movie, revi...</td>\n",
              "      <td>neg</td>\n",
              "      <td>[happi, bastard, quick, movi, review, damn, bu...</td>\n",
              "      <td>happi bastard quick movi review damn bug got h...</td>\n",
              "    </tr>\n",
              "    <tr>\n",
              "      <th>2</th>\n",
              "      <td>[it, is, movies, like, these, that, make, a, j...</td>\n",
              "      <td>neg</td>\n",
              "      <td>[movi, like, make, jade, movi, viewer, thank, ...</td>\n",
              "      <td>movi like make jade movi viewer thank invent t...</td>\n",
              "    </tr>\n",
              "    <tr>\n",
              "      <th>3</th>\n",
              "      <td>[\", quest, for, camelot, \", is, warner, bros, ...</td>\n",
              "      <td>neg</td>\n",
              "      <td>[quest, camelot, warner, bro, first, featur, l...</td>\n",
              "      <td>quest camelot warner bro first featur length f...</td>\n",
              "    </tr>\n",
              "    <tr>\n",
              "      <th>4</th>\n",
              "      <td>[synopsis, :, a, mentally, unstable, man, unde...</td>\n",
              "      <td>neg</td>\n",
              "      <td>[synopsi, mental, unstabl, man, undergo, psych...</td>\n",
              "      <td>synopsi mental unstabl man undergo psychothera...</td>\n",
              "    </tr>\n",
              "  </tbody>\n",
              "</table>\n",
              "</div>\n",
              "    <div class=\"colab-df-buttons\">\n",
              "\n",
              "  <div class=\"colab-df-container\">\n",
              "    <button class=\"colab-df-convert\" onclick=\"convertToInteractive('df-f7d7b12f-4b3a-4bff-84c0-4597ee05e0c4')\"\n",
              "            title=\"Convert this dataframe to an interactive table.\"\n",
              "            style=\"display:none;\">\n",
              "\n",
              "  <svg xmlns=\"http://www.w3.org/2000/svg\" height=\"24px\" viewBox=\"0 -960 960 960\">\n",
              "    <path d=\"M120-120v-720h720v720H120Zm60-500h600v-160H180v160Zm220 220h160v-160H400v160Zm0 220h160v-160H400v160ZM180-400h160v-160H180v160Zm440 0h160v-160H620v160ZM180-180h160v-160H180v160Zm440 0h160v-160H620v160Z\"/>\n",
              "  </svg>\n",
              "    </button>\n",
              "\n",
              "  <style>\n",
              "    .colab-df-container {\n",
              "      display:flex;\n",
              "      gap: 12px;\n",
              "    }\n",
              "\n",
              "    .colab-df-convert {\n",
              "      background-color: #E8F0FE;\n",
              "      border: none;\n",
              "      border-radius: 50%;\n",
              "      cursor: pointer;\n",
              "      display: none;\n",
              "      fill: #1967D2;\n",
              "      height: 32px;\n",
              "      padding: 0 0 0 0;\n",
              "      width: 32px;\n",
              "    }\n",
              "\n",
              "    .colab-df-convert:hover {\n",
              "      background-color: #E2EBFA;\n",
              "      box-shadow: 0px 1px 2px rgba(60, 64, 67, 0.3), 0px 1px 3px 1px rgba(60, 64, 67, 0.15);\n",
              "      fill: #174EA6;\n",
              "    }\n",
              "\n",
              "    .colab-df-buttons div {\n",
              "      margin-bottom: 4px;\n",
              "    }\n",
              "\n",
              "    [theme=dark] .colab-df-convert {\n",
              "      background-color: #3B4455;\n",
              "      fill: #D2E3FC;\n",
              "    }\n",
              "\n",
              "    [theme=dark] .colab-df-convert:hover {\n",
              "      background-color: #434B5C;\n",
              "      box-shadow: 0px 1px 3px 1px rgba(0, 0, 0, 0.15);\n",
              "      filter: drop-shadow(0px 1px 2px rgba(0, 0, 0, 0.3));\n",
              "      fill: #FFFFFF;\n",
              "    }\n",
              "  </style>\n",
              "\n",
              "    <script>\n",
              "      const buttonEl =\n",
              "        document.querySelector('#df-f7d7b12f-4b3a-4bff-84c0-4597ee05e0c4 button.colab-df-convert');\n",
              "      buttonEl.style.display =\n",
              "        google.colab.kernel.accessAllowed ? 'block' : 'none';\n",
              "\n",
              "      async function convertToInteractive(key) {\n",
              "        const element = document.querySelector('#df-f7d7b12f-4b3a-4bff-84c0-4597ee05e0c4');\n",
              "        const dataTable =\n",
              "          await google.colab.kernel.invokeFunction('convertToInteractive',\n",
              "                                                    [key], {});\n",
              "        if (!dataTable) return;\n",
              "\n",
              "        const docLinkHtml = 'Like what you see? Visit the ' +\n",
              "          '<a target=\"_blank\" href=https://colab.research.google.com/notebooks/data_table.ipynb>data table notebook</a>'\n",
              "          + ' to learn more about interactive tables.';\n",
              "        element.innerHTML = '';\n",
              "        dataTable['output_type'] = 'display_data';\n",
              "        await google.colab.output.renderOutput(dataTable, element);\n",
              "        const docLink = document.createElement('div');\n",
              "        docLink.innerHTML = docLinkHtml;\n",
              "        element.appendChild(docLink);\n",
              "      }\n",
              "    </script>\n",
              "  </div>\n",
              "\n",
              "\n",
              "<div id=\"df-0d5fc572-ae73-4151-934e-10692b9d739a\">\n",
              "  <button class=\"colab-df-quickchart\" onclick=\"quickchart('df-0d5fc572-ae73-4151-934e-10692b9d739a')\"\n",
              "            title=\"Suggest charts\"\n",
              "            style=\"display:none;\">\n",
              "\n",
              "<svg xmlns=\"http://www.w3.org/2000/svg\" height=\"24px\"viewBox=\"0 0 24 24\"\n",
              "     width=\"24px\">\n",
              "    <g>\n",
              "        <path d=\"M19 3H5c-1.1 0-2 .9-2 2v14c0 1.1.9 2 2 2h14c1.1 0 2-.9 2-2V5c0-1.1-.9-2-2-2zM9 17H7v-7h2v7zm4 0h-2V7h2v10zm4 0h-2v-4h2v4z\"/>\n",
              "    </g>\n",
              "</svg>\n",
              "  </button>\n",
              "\n",
              "<style>\n",
              "  .colab-df-quickchart {\n",
              "      --bg-color: #E8F0FE;\n",
              "      --fill-color: #1967D2;\n",
              "      --hover-bg-color: #E2EBFA;\n",
              "      --hover-fill-color: #174EA6;\n",
              "      --disabled-fill-color: #AAA;\n",
              "      --disabled-bg-color: #DDD;\n",
              "  }\n",
              "\n",
              "  [theme=dark] .colab-df-quickchart {\n",
              "      --bg-color: #3B4455;\n",
              "      --fill-color: #D2E3FC;\n",
              "      --hover-bg-color: #434B5C;\n",
              "      --hover-fill-color: #FFFFFF;\n",
              "      --disabled-bg-color: #3B4455;\n",
              "      --disabled-fill-color: #666;\n",
              "  }\n",
              "\n",
              "  .colab-df-quickchart {\n",
              "    background-color: var(--bg-color);\n",
              "    border: none;\n",
              "    border-radius: 50%;\n",
              "    cursor: pointer;\n",
              "    display: none;\n",
              "    fill: var(--fill-color);\n",
              "    height: 32px;\n",
              "    padding: 0;\n",
              "    width: 32px;\n",
              "  }\n",
              "\n",
              "  .colab-df-quickchart:hover {\n",
              "    background-color: var(--hover-bg-color);\n",
              "    box-shadow: 0 1px 2px rgba(60, 64, 67, 0.3), 0 1px 3px 1px rgba(60, 64, 67, 0.15);\n",
              "    fill: var(--button-hover-fill-color);\n",
              "  }\n",
              "\n",
              "  .colab-df-quickchart-complete:disabled,\n",
              "  .colab-df-quickchart-complete:disabled:hover {\n",
              "    background-color: var(--disabled-bg-color);\n",
              "    fill: var(--disabled-fill-color);\n",
              "    box-shadow: none;\n",
              "  }\n",
              "\n",
              "  .colab-df-spinner {\n",
              "    border: 2px solid var(--fill-color);\n",
              "    border-color: transparent;\n",
              "    border-bottom-color: var(--fill-color);\n",
              "    animation:\n",
              "      spin 1s steps(1) infinite;\n",
              "  }\n",
              "\n",
              "  @keyframes spin {\n",
              "    0% {\n",
              "      border-color: transparent;\n",
              "      border-bottom-color: var(--fill-color);\n",
              "      border-left-color: var(--fill-color);\n",
              "    }\n",
              "    20% {\n",
              "      border-color: transparent;\n",
              "      border-left-color: var(--fill-color);\n",
              "      border-top-color: var(--fill-color);\n",
              "    }\n",
              "    30% {\n",
              "      border-color: transparent;\n",
              "      border-left-color: var(--fill-color);\n",
              "      border-top-color: var(--fill-color);\n",
              "      border-right-color: var(--fill-color);\n",
              "    }\n",
              "    40% {\n",
              "      border-color: transparent;\n",
              "      border-right-color: var(--fill-color);\n",
              "      border-top-color: var(--fill-color);\n",
              "    }\n",
              "    60% {\n",
              "      border-color: transparent;\n",
              "      border-right-color: var(--fill-color);\n",
              "    }\n",
              "    80% {\n",
              "      border-color: transparent;\n",
              "      border-right-color: var(--fill-color);\n",
              "      border-bottom-color: var(--fill-color);\n",
              "    }\n",
              "    90% {\n",
              "      border-color: transparent;\n",
              "      border-bottom-color: var(--fill-color);\n",
              "    }\n",
              "  }\n",
              "</style>\n",
              "\n",
              "  <script>\n",
              "    async function quickchart(key) {\n",
              "      const quickchartButtonEl =\n",
              "        document.querySelector('#' + key + ' button');\n",
              "      quickchartButtonEl.disabled = true;  // To prevent multiple clicks.\n",
              "      quickchartButtonEl.classList.add('colab-df-spinner');\n",
              "      try {\n",
              "        const charts = await google.colab.kernel.invokeFunction(\n",
              "            'suggestCharts', [key], {});\n",
              "      } catch (error) {\n",
              "        console.error('Error during call to suggestCharts:', error);\n",
              "      }\n",
              "      quickchartButtonEl.classList.remove('colab-df-spinner');\n",
              "      quickchartButtonEl.classList.add('colab-df-quickchart-complete');\n",
              "    }\n",
              "    (() => {\n",
              "      let quickchartButtonEl =\n",
              "        document.querySelector('#df-0d5fc572-ae73-4151-934e-10692b9d739a button');\n",
              "      quickchartButtonEl.style.display =\n",
              "        google.colab.kernel.accessAllowed ? 'block' : 'none';\n",
              "    })();\n",
              "  </script>\n",
              "</div>\n",
              "\n",
              "    </div>\n",
              "  </div>\n"
            ],
            "application/vnd.google.colaboratory.intrinsic+json": {
              "type": "dataframe",
              "variable_name": "df",
              "summary": "{\n  \"name\": \"df\",\n  \"rows\": 2000,\n  \"fields\": [\n    {\n      \"column\": \"words\",\n      \"properties\": {\n        \"dtype\": \"object\",\n        \"semantic_type\": \"\",\n        \"description\": \"\"\n      }\n    },\n    {\n      \"column\": \"category\",\n      \"properties\": {\n        \"dtype\": \"category\",\n        \"num_unique_values\": 2,\n        \"samples\": [\n          \"pos\",\n          \"neg\"\n        ],\n        \"semantic_type\": \"\",\n        \"description\": \"\"\n      }\n    },\n    {\n      \"column\": \"processed_words\",\n      \"properties\": {\n        \"dtype\": \"object\",\n        \"semantic_type\": \"\",\n        \"description\": \"\"\n      }\n    },\n    {\n      \"column\": \"processed_text\",\n      \"properties\": {\n        \"dtype\": \"string\",\n        \"num_unique_values\": 1996,\n        \"samples\": [\n          \"depend degre cinemat acumen last man stand either prohibit era remak akira kurosawa classic yojimbo b prohibit era remak sergio leon classic fist dollar c prohibit era action drama complet origin stori line new line certainli count fact far potenti viewer categori c two combin much recent remak diaboliqu vanish count avoid comparison fact yet anoth way look last man stand first film version stori nod sourc materi dashiel hammett novel also show kurosawa leon knew better materi hammett time around man name play bruce willi fellow shadi histori undefin natur roll texa border town jericho one day way mexico appear jericho well way becom ghost town remain inhabit gener belong one two bootleg oper fight control liquor come border one head irishman name doyl david patrick kelli run chicago connect italian mobster strozzi ned eisenberg call john smith man decid money made conflict hire enforc doyl side smith allegi uncertain name begin play two side tri stay one step ahead viewer familiar previou incarn stori find virtual noth radic chang plot standpoint alon make last man stand somewhat respect recent hollywood remak cum bastard happili ineffectu lawman bruce dern unhappili detain object one boss affect karina lombard barkeep becom anti hero friend william sanderson suspici lieuten christoph walken michael imperioli question boss trust smith brutal beat big fire director walter hill give proceed usual inject steroid includ pair gun willi abil propel assail backward suffici thrust achiev escap veloc least tri turn stori slasher film buddi pictur nearli big mistak provid run voic narrat willi ring standard hard boil style pulp detect fiction ye narrat full clich particularli troubl problem yojimbo fist dollar succeed larg inscrut lead charact mysteri charact film audienc motiv never entir clear even act qualiti contribut almost mythic statu john smith voic chatter background allow us everi thought becom mundan anoth tough guy tri stay aliv feel like hammett novel right hill plead faith text choic simpli work narrat allow man name take us confid man name take confid even walk last man stand blank slate imagin much heavili arm minor distract willi tone macho swagger taciturn smith still level alway seem like count tougher everyon els rather smarter everyon els christoph walken play doyl brutal henchman slight variat galleri soft spoken psycho anoth singl charact make even slightest impress compel antagonist smith build toward expect showdown come showdown quickli wonder fuss cinematograph lloyd ahern also noteworthi work hill flop wild bill creat nifti sunburn vista work keep eye distract spurt gunfir next bit counter product narrat sometim someon see lacklust remak rever origin wonder talk case last man stand know origin wonder talk\",\n          \"pleasantvil tap hollywood lack integr subtl messag easili miss www pleasantvil com april friday cast tobey maguir rees witherspoon william h maci joan allen j walsh jeff daniel mpaa rate pg sexual content themat element genr drama opinion short take lot care observ see true moral lesson brought film one easili misl real messag review liter colorless world almost mechan popul room transit varieti even customari happen everyday life rain fire emot town pleasantvil one adject pleasant sad fear danger discomfort love hate put simpli place alani morissett could realli work wonder j one big note howev sitcom air rerun oldi tv station wait month see movi open day disappoint found quit intrigu delight went back time period endur box offic month later slip small show one crummi dollar theater seen long eye open deeper mean perspect previous experienc far feasibl misconcept film forward idea world without healthi immor world instead actual messag far recogn mani viewer know world without immor give one abil discern right wrong everyth automat right room mistak growth learn mistak made space growth never anyth new learn key compon entir purpos stori say necessarili way intend interpret hand proper way besid hidden symbol depth theme go beyond absorb preview film element physic wonder strength make great watch visual effect inde strike littl color reveal imparti favor spend bulk movi stare black white hard identifi appreci fact world allow brillianc truli intellig addit howev charm ardent attain cast oper togeth like clockwork said plot goe david jennif two high school twin typic relationship outlin mess life mess demonstr well known teenag qualiti two common version adolesc today david shyer subtler twin would rather watch tv land mtv jennif wild licenti one spend day mall relish pleasur offens world degrad freak accid enchantingli plop smack dab middl pleasantvil two main charact forc depend make back home nevertheless jennif work magic introduc town unrestrain approach life david frantic tri stop get back home realiz chang exactli town need said earlier flip town around corrupt societi rather give peopl choic decid good bad reap result decis learn difficult choic brought upon town simpl accept occurr ordinari exist also began take place peopl got hurt cri becam afraid happi thought start think physic world turn color well look upon quit controversi movi messag final clear hope read peopl open film past realiz without choos live run never know could done better next great movi see remain sincer daniel flynn imr\"\n        ],\n        \"semantic_type\": \"\",\n        \"description\": \"\"\n      }\n    }\n  ]\n}"
            }
          },
          "metadata": {},
          "execution_count": 98
        }
      ]
    },
    {
      "cell_type": "code",
      "source": [
        "# Initialize TfidfVectorizer with a maximum of 1000 features\n",
        "vectorizer = TfidfVectorizer(max_features=1000)\n",
        "\n",
        "# Fit and transform the 'processed_text' column from the DataFrame\n",
        "X = vectorizer.fit_transform(df['processed_text']).toarray()"
      ],
      "metadata": {
        "id": "raqzcoLgxa1J"
      },
      "execution_count": 99,
      "outputs": []
    },
    {
      "cell_type": "markdown",
      "source": [
        "The fit_transform method learns the vocabulary and transforms the text data into a TF-IDF weighted feature matrix"
      ],
      "metadata": {
        "id": "gWB7xj71ySK7"
      }
    },
    {
      "cell_type": "code",
      "source": [
        "print(X)"
      ],
      "metadata": {
        "colab": {
          "base_uri": "https://localhost:8080/"
        },
        "id": "l3Zmd1nex6QJ",
        "outputId": "fc5aa6ea-5e79-4950-ba67-06c9366a16df"
      },
      "execution_count": 101,
      "outputs": [
        {
          "output_type": "stream",
          "name": "stdout",
          "text": [
            "[[0.         0.         0.         ... 0.         0.         0.        ]\n",
            " [0.         0.         0.         ... 0.         0.         0.        ]\n",
            " [0.         0.         0.         ... 0.         0.         0.05057066]\n",
            " ...\n",
            " [0.03407112 0.         0.03225177 ... 0.         0.         0.04626159]\n",
            " [0.         0.         0.         ... 0.         0.         0.        ]\n",
            " [0.         0.         0.         ... 0.         0.         0.        ]]\n"
          ]
        }
      ]
    },
    {
      "cell_type": "code",
      "source": [
        "print(\"Shape of X:\", X.shape)"
      ],
      "metadata": {
        "colab": {
          "base_uri": "https://localhost:8080/"
        },
        "id": "_6GFWdgdxiJZ",
        "outputId": "44881dd0-534d-45ea-a3f3-f8e729a267c4"
      },
      "execution_count": 100,
      "outputs": [
        {
          "output_type": "stream",
          "name": "stdout",
          "text": [
            "Shape of X: (2000, 1000)\n"
          ]
        }
      ]
    },
    {
      "cell_type": "code",
      "source": [
        "# WCSS (within-cluster sum of squares) for different values of k\n",
        "wcss = []\n",
        "\n",
        "# Try clustering for a range of k values\n",
        "for k in range(1, 11):\n",
        "    kmeans = KMeans(n_clusters=k, n_init=10, random_state=42)\n",
        "    kmeans.fit(X)\n",
        "    # Append the WCSS for the current k to the list\n",
        "    wcss.append(kmeans.inertia_)"
      ],
      "metadata": {
        "id": "mY56q-ue0gwD"
      },
      "execution_count": 116,
      "outputs": []
    },
    {
      "cell_type": "code",
      "source": [
        "# plot an elbow graph\n",
        "sns.set()\n",
        "plt.plot(range(1,11), wcss)\n",
        "plt.title('Elbow Point Graph')\n",
        "plt.xlabel('Number of Clusters')\n",
        "plt.ylabel('WCSS')\n",
        "plt.show()"
      ],
      "metadata": {
        "colab": {
          "base_uri": "https://localhost:8080/",
          "height": 480
        },
        "id": "bOy3zhQ11IRx",
        "outputId": "388b3d5f-eaf3-4a81-afec-2f710c639e54"
      },
      "execution_count": 117,
      "outputs": [
        {
          "output_type": "display_data",
          "data": {
            "text/plain": [
              "<Figure size 640x480 with 1 Axes>"
            ],
            "image/png": "[encoded data removed]"
          },
          "metadata": {}
        }
      ]
    },
    {
      "cell_type": "code",
      "source": [
        "kmeans = KMeans(n_clusters=5, random_state=42)\n",
        "kmeans.fit(X)"
      ],
      "metadata": {
        "colab": {
          "base_uri": "https://localhost:8080/",
          "height": 129
        },
        "id": "8lLf8kSuy0PM",
        "outputId": "066650da-199e-4b03-844c-e00153e707cf"
      },
      "execution_count": 118,
      "outputs": [
        {
          "output_type": "stream",
          "name": "stderr",
          "text": [
            "/usr/local/lib/python3.10/dist-packages/sklearn/cluster/_kmeans.py:870: FutureWarning: The default value of `n_init` will change from 10 to 'auto' in 1.4. Set the value of `n_init` explicitly to suppress the warning\n",
            "  warnings.warn(\n"
          ]
        },
        {
          "output_type": "execute_result",
          "data": {
            "text/plain": [
              "KMeans(n_clusters=5, random_state=42)"
            ],
            "text/html": [
              "<style>#sk-container-id-2 {color: black;background-color: white;}#sk-container-id-2 pre{padding: 0;}#sk-container-id-2 div.sk-toggleable {background-color: white;}#sk-container-id-2 label.sk-toggleable__label {cursor: pointer;display: block;width: 100%;margin-bottom: 0;padding: 0.3em;box-sizing: border-box;text-align: center;}#sk-container-id-2 label.sk-toggleable__label-arrow:before {content: \"▸\";float: left;margin-right: 0.25em;color: #696969;}#sk-container-id-2 label.sk-toggleable__label-arrow:hover:before {color: black;}#sk-container-id-2 div.sk-estimator:hover label.sk-toggleable__label-arrow:before {color: black;}#sk-container-id-2 div.sk-toggleable__content {max-height: 0;max-width: 0;overflow: hidden;text-align: left;background-color: #f0f8ff;}#sk-container-id-2 div.sk-toggleable__content pre {margin: 0.2em;color: black;border-radius: 0.25em;background-color: #f0f8ff;}#sk-container-id-2 input.sk-toggleable__control:checked~div.sk-toggleable__content {max-height: 200px;max-width: 100%;overflow: auto;}#sk-container-id-2 input.sk-toggleable__control:checked~label.sk-toggleable__label-arrow:before {content: \"▾\";}#sk-container-id-2 div.sk-estimator input.sk-toggleable__control:checked~label.sk-toggleable__label {background-color: #d4ebff;}#sk-container-id-2 div.sk-label input.sk-toggleable__control:checked~label.sk-toggleable__label {background-color: #d4ebff;}#sk-container-id-2 input.sk-hidden--visually {border: 0;clip: rect(1px 1px 1px 1px);clip: rect(1px, 1px, 1px, 1px);height: 1px;margin: -1px;overflow: hidden;padding: 0;position: absolute;width: 1px;}#sk-container-id-2 div.sk-estimator {font-family: monospace;background-color: #f0f8ff;border: 1px dotted black;border-radius: 0.25em;box-sizing: border-box;margin-bottom: 0.5em;}#sk-container-id-2 div.sk-estimator:hover {background-color: #d4ebff;}#sk-container-id-2 div.sk-parallel-item::after {content: \"\";width: 100%;border-bottom: 1px solid gray;flex-grow: 1;}#sk-container-id-2 div.sk-label:hover label.sk-toggleable__label {background-color: #d4ebff;}#sk-container-id-2 div.sk-serial::before {content: \"\";position: absolute;border-left: 1px solid gray;box-sizing: border-box;top: 0;bottom: 0;left: 50%;z-index: 0;}#sk-container-id-2 div.sk-serial {display: flex;flex-direction: column;align-items: center;background-color: white;padding-right: 0.2em;padding-left: 0.2em;position: relative;}#sk-container-id-2 div.sk-item {position: relative;z-index: 1;}#sk-container-id-2 div.sk-parallel {display: flex;align-items: stretch;justify-content: center;background-color: white;position: relative;}#sk-container-id-2 div.sk-item::before, #sk-container-id-2 div.sk-parallel-item::before {content: \"\";position: absolute;border-left: 1px solid gray;box-sizing: border-box;top: 0;bottom: 0;left: 50%;z-index: -1;}#sk-container-id-2 div.sk-parallel-item {display: flex;flex-direction: column;z-index: 1;position: relative;background-color: white;}#sk-container-id-2 div.sk-parallel-item:first-child::after {align-self: flex-end;width: 50%;}#sk-container-id-2 div.sk-parallel-item:last-child::after {align-self: flex-start;width: 50%;}#sk-container-id-2 div.sk-parallel-item:only-child::after {width: 0;}#sk-container-id-2 div.sk-dashed-wrapped {border: 1px dashed gray;margin: 0 0.4em 0.5em 0.4em;box-sizing: border-box;padding-bottom: 0.4em;background-color: white;}#sk-container-id-2 div.sk-label label {font-family: monospace;font-weight: bold;display: inline-block;line-height: 1.2em;}#sk-container-id-2 div.sk-label-container {text-align: center;}#sk-container-id-2 div.sk-container {/* jupyter's `normalize.less` sets `[hidden] { display: none; }` but bootstrap.min.css set `[hidden] { display: none !important; }` so we also need the `!important` here to be able to override the default hidden behavior on the sphinx rendered scikit-learn.org. See: https://github.com/scikit-learn/scikit-learn/issues/21755 */display: inline-block !important;position: relative;}#sk-container-id-2 div.sk-text-repr-fallback {display: none;}</style><div id=\"sk-container-id-2\" class=\"sk-top-container\"><div class=\"sk-text-repr-fallback\"><pre>KMeans(n_clusters=5, random_state=42)</pre><b>In a Jupyter environment, please rerun this cell to show the HTML representation or trust the notebook. <br />On GitHub, the HTML representation is unable to render, please try loading this page with nbviewer.org.</b></div><div class=\"sk-container\" hidden><div class=\"sk-item\"><div class=\"sk-estimator sk-toggleable\"><input class=\"sk-toggleable__control sk-hidden--visually\" id=\"sk-estimator-id-2\" type=\"checkbox\" checked><label for=\"sk-estimator-id-2\" class=\"sk-toggleable__label sk-toggleable__label-arrow\">KMeans</label><div class=\"sk-toggleable__content\"><pre>KMeans(n_clusters=5, random_state=42)</pre></div></div></div></div></div>"
            ]
          },
          "metadata": {},
          "execution_count": 118
        }
      ]
    },
    {
      "cell_type": "code",
      "source": [
        "df['cluster'] = kmeans.fit_predict(X)"
      ],
      "metadata": {
        "colab": {
          "base_uri": "https://localhost:8080/"
        },
        "id": "-9c6hr6ey9qn",
        "outputId": "44e7ab6f-8827-439e-f487-24bbcd1a6356"
      },
      "execution_count": 103,
      "outputs": [
        {
          "output_type": "stream",
          "name": "stderr",
          "text": [
            "/usr/local/lib/python3.10/dist-packages/sklearn/cluster/_kmeans.py:870: FutureWarning: The default value of `n_init` will change from 10 to 'auto' in 1.4. Set the value of `n_init` explicitly to suppress the warning\n",
            "  warnings.warn(\n"
          ]
        }
      ]
    },
    {
      "cell_type": "code",
      "source": [
        "# Get cluster labels\n",
        "cluster_labels = kmeans.labels_\n",
        "\n",
        "# Print cluster labels assigned to each document\n",
        "print(\"Cluster labels:\", cluster_labels)"
      ],
      "metadata": {
        "colab": {
          "base_uri": "https://localhost:8080/"
        },
        "id": "eIbovKAUzeqp",
        "outputId": "14b0c594-fdd3-4496-803e-327f0fe67dfb"
      },
      "execution_count": 104,
      "outputs": [
        {
          "output_type": "stream",
          "name": "stdout",
          "text": [
            "Cluster labels: [4 4 2 ... 3 2 3]\n"
          ]
        }
      ]
    },
    {
      "cell_type": "code",
      "source": [
        "print(\"Customer Segmentation Results:\")\n",
        "print(df[['processed_text', 'cluster']].head())"
      ],
      "metadata": {
        "colab": {
          "base_uri": "https://localhost:8080/"
        },
        "id": "WWQqRuHbziwo",
        "outputId": "8df5d4f3-b6ed-4651-86e8-76b0066748da"
      },
      "execution_count": 105,
      "outputs": [
        {
          "output_type": "stream",
          "name": "stdout",
          "text": [
            "Customer Segmentation Results:\n",
            "                                      processed_text  cluster\n",
            "0  plot two teen coupl go church parti drink driv...        4\n",
            "1  happi bastard quick movi review damn bug got h...        4\n",
            "2  movi like make jade movi viewer thank invent t...        2\n",
            "3  quest camelot warner bro first featur length f...        3\n",
            "4  synopsi mental unstabl man undergo psychothera...        4\n"
          ]
        }
      ]
    },
    {
      "cell_type": "code",
      "source": [
        "print(df[['processed_text', 'cluster']].tail())"
      ],
      "metadata": {
        "colab": {
          "base_uri": "https://localhost:8080/"
        },
        "id": "bl86xgYQzrZg",
        "outputId": "a1b4d01e-4dbc-44b9-8534-8654af8b5fb5"
      },
      "execution_count": 106,
      "outputs": [
        {
          "output_type": "stream",
          "name": "stdout",
          "text": [
            "                                         processed_text  cluster\n",
            "1995  wow movi everyth movi funni dramat interest we...        4\n",
            "1996  richard gere command actor alway great film ev...        3\n",
            "1997  glori star matthew broderick denzel washington...        3\n",
            "1998  steven spielberg second epic film world war ii...        2\n",
            "1999  truman true man burbank perfect name jim carre...        3\n"
          ]
        }
      ]
    },
    {
      "cell_type": "code",
      "source": [
        "plt.figure(figsize=(8,8))\n",
        "plt.scatter(X[:, 0], X[:, 1], c=df['cluster'], cmap='Set1', s=50, alpha=0.5)\n",
        "plt.scatter(kmeans.cluster_centers_[:, 0], kmeans.cluster_centers_[:, 1], s=200, c='skyblue', label='Centroids')\n",
        "plt.title('Clustering of Movie Reviews')\n",
        "plt.xlabel('Movie Reviews')\n",
        "plt.ylabel('Vectorized Words')\n",
        "plt.legend()\n",
        "plt.show()"
      ],
      "metadata": {
        "colab": {
          "base_uri": "https://localhost:8080/",
          "height": 727
        },
        "id": "hpghaL-p3z5Y",
        "outputId": "6e3c2a85-0b5d-4773-a389-84d08980a69a"
      },
      "execution_count": 136,
      "outputs": [
        {
          "output_type": "display_data",
          "data": {
            "text/plain": [
              "<Figure size 800x800 with 1 Axes>"
            ],
            "image/png": "[encoded data removed]"
          },
          "metadata": {}
        }
      ]
    },
    {
      "cell_type": "code",
      "source": [
        "plt.figure(figsize=(10, 6))\n",
        "sns.countplot(x='category', data=df)\n",
        "plt.title('Distribution of Sentiments in Movie Reviews')\n",
        "plt.xlabel('Sentiment')\n",
        "plt.ylabel('Count')\n",
        "plt.show()"
      ],
      "metadata": {
        "colab": {
          "base_uri": "https://localhost:8080/",
          "height": 573
        },
        "id": "S6icF0h94Hh8",
        "outputId": "0ed72761-b181-4b43-c027-3609ccf00018"
      },
      "execution_count": 124,
      "outputs": [
        {
          "output_type": "display_data",
          "data": {
            "text/plain": [
              "<Figure size 1000x600 with 1 Axes>"
            ],
            "image/png": "[encoded data removed]"
          },
          "metadata": {}
        }
      ]
    }
  ]
}